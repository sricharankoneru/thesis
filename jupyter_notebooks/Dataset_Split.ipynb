{
 "cells": [
  {
   "cell_type": "code",
   "execution_count": 28,
   "id": "303dd34d-922e-475f-bcdd-6a991aa94ec9",
   "metadata": {},
   "outputs": [],
   "source": [
    "import os\n",
    "import random\n",
    "import shutil\n",
    "from sklearn.model_selection import train_test_split"
   ]
  },
  {
   "cell_type": "code",
   "execution_count": 29,
   "id": "f1f5fc9c-0855-4fe3-ada9-4a3ba30fd12c",
   "metadata": {},
   "outputs": [
    {
     "name": "stdout",
     "output_type": "stream",
     "text": [
      "D:\\Masters\\OVGU\\VII_Semester\\Thesis\\jupyter_notebooks\n"
     ]
    }
   ],
   "source": [
    "# Set seed for reproducibility\n",
    "random.seed(42)\n",
    "\n",
    "curr_path = os.getcwd()\n",
    "print(curr_path)"
   ]
  },
  {
   "cell_type": "code",
   "execution_count": 30,
   "id": "1e2b9899-d928-4a6c-856a-7fc137acb726",
   "metadata": {},
   "outputs": [],
   "source": [
    "# Define the paths\n",
    "data_dir = os.path.join(curr_path, 'Data\\\\Dataset\\\\Full Dataset\\\\tiles')  # Folder with all your tiles\n",
    "mask_dir =  os.path.join(curr_path, 'Data\\\\Dataset\\\\Full Dataset\\\\masks')  # Folder with all your masksd\n",
    "output_dir = os.path.join(curr_path, 'Data\\\\Dataset\\\\Final_Dataset')  # Where you want to save train, val, and test sets"
   ]
  },
  {
   "cell_type": "code",
   "execution_count": 31,
   "id": "40d90c09-5eda-4392-9077-8aedfbe7e12f",
   "metadata": {},
   "outputs": [],
   "source": [
    "# Create output directories\n",
    "train_images_dir = os.path.join(output_dir, 'train', 'tiles')\n",
    "train_masks_dir = os.path.join(output_dir, 'train', 'masks')\n",
    "val_images_dir = os.path.join(output_dir, 'val', 'tiles')\n",
    "val_masks_dir = os.path.join(output_dir, 'val', 'masks')\n",
    "test_images_dir = os.path.join(output_dir, 'test', 'tiles')\n",
    "test_masks_dir = os.path.join(output_dir, 'test', 'masks')"
   ]
  },
  {
   "cell_type": "code",
   "execution_count": 32,
   "id": "a484586c-4195-492b-abc6-b132229441ce",
   "metadata": {},
   "outputs": [],
   "source": [
    "# Ensure directories exist\n",
    "os.makedirs(train_images_dir, exist_ok=True)\n",
    "os.makedirs(train_masks_dir, exist_ok=True)\n",
    "os.makedirs(val_images_dir, exist_ok=True)\n",
    "os.makedirs(val_masks_dir, exist_ok=True)\n",
    "os.makedirs(test_images_dir, exist_ok=True)\n",
    "os.makedirs(test_masks_dir, exist_ok=True)"
   ]
  },
  {
   "cell_type": "code",
   "execution_count": 33,
   "id": "98b6359b-9fe1-4028-96e7-e7a3e34b97a1",
   "metadata": {},
   "outputs": [
    {
     "name": "stdout",
     "output_type": "stream",
     "text": [
      "D:\\Masters\\OVGU\\VII_Semester\\Thesis\\jupyter_notebooks\\Data\\Dataset\\Final_Dataset\\train\\tiles\n"
     ]
    }
   ],
   "source": [
    "print(train_images_dir)"
   ]
  },
  {
   "cell_type": "code",
   "execution_count": 34,
   "id": "68157a56-7c0d-445a-8660-6ce11bcb1443",
   "metadata": {},
   "outputs": [],
   "source": [
    "# Get list of all tiles (assumes image and mask names are related)\n",
    "all_tiles = sorted(os.listdir(data_dir))\n",
    "all_masks = sorted(os.listdir(mask_dir))"
   ]
  },
  {
   "cell_type": "code",
   "execution_count": 35,
   "id": "cd479920-a2c0-466c-b14e-63f357075d26",
   "metadata": {},
   "outputs": [],
   "source": [
    "# Ensure the number of tiles matches the number of masks\n",
    "assert len(all_tiles) == len(all_masks), \"Mismatch between number of tiles and masks!\""
   ]
  },
  {
   "cell_type": "code",
   "execution_count": 36,
   "id": "1f557282-a890-4922-8354-45d113ac068e",
   "metadata": {},
   "outputs": [],
   "source": [
    "# Get list of all tiles\n",
    "all_tiles = [f for f in sorted(os.listdir(data_dir)) if f.startswith('input_')]"
   ]
  },
  {
   "cell_type": "code",
   "execution_count": 37,
   "id": "198a89cc-7ee6-4184-87af-02776de0e617",
   "metadata": {},
   "outputs": [],
   "source": [
    "# Function to get the corresponding mask file from a tile name\n",
    "def get_mask_name(tile_name):\n",
    "    return tile_name.replace('input_', 'mask_')"
   ]
  },
  {
   "cell_type": "code",
   "execution_count": 38,
   "id": "41333180-dbeb-4fa1-bf16-a970dc54357e",
   "metadata": {},
   "outputs": [],
   "source": [
    "# Ensure all corresponding masks exist\n",
    "all_masks = [get_mask_name(tile) for tile in all_tiles]\n",
    "for mask in all_masks:\n",
    "    assert os.path.exists(os.path.join(mask_dir, mask)), f\"Mask {mask} does not exist!\""
   ]
  },
  {
   "cell_type": "code",
   "execution_count": 39,
   "id": "f78dbc67-b86c-49e0-8948-9963f880062e",
   "metadata": {},
   "outputs": [],
   "source": [
    "# Split data into train (70%), val (15%), and test (15%)\n",
    "train_tiles, test_tiles, train_masks, test_masks = train_test_split(\n",
    "    all_tiles, all_masks, test_size=0.3, random_state=42\n",
    ")"
   ]
  },
  {
   "cell_type": "code",
   "execution_count": 40,
   "id": "5af68ca3-a215-4a90-85d0-4f1f9f20c74d",
   "metadata": {},
   "outputs": [],
   "source": [
    "val_tiles, test_tiles, val_masks, test_masks = train_test_split(\n",
    "    test_tiles, test_masks, test_size=0.5, random_state=42\n",
    ")"
   ]
  },
  {
   "cell_type": "code",
   "execution_count": 41,
   "id": "614fcacb-565f-4aaa-a7ba-79e1a3c7e93d",
   "metadata": {},
   "outputs": [],
   "source": [
    "# Function to copy files\n",
    "def copy_files(file_list, src_dir, dst_dir, file_type='tiles'):\n",
    "    for file_name in file_list:\n",
    "        src_path = os.path.join(src_dir, file_name)\n",
    "        dst_path = os.path.join(dst_dir, file_name)\n",
    "        shutil.copy(src_path, dst_path)"
   ]
  },
  {
   "cell_type": "code",
   "execution_count": 42,
   "id": "fef7c8c2-e26d-4fb9-834b-4aac2a3dd814",
   "metadata": {},
   "outputs": [
    {
     "name": "stdout",
     "output_type": "stream",
     "text": [
      "Data split and saved successfully!\n"
     ]
    }
   ],
   "source": [
    "# Copy the train, val, and test data for both tiles and masks\n",
    "copy_files(train_tiles, data_dir, train_images_dir)\n",
    "copy_files([get_mask_name(tile) for tile in train_tiles], mask_dir, train_masks_dir)\n",
    "\n",
    "copy_files(val_tiles, data_dir, val_images_dir)\n",
    "copy_files([get_mask_name(tile) for tile in val_tiles], mask_dir, val_masks_dir)\n",
    "\n",
    "copy_files(test_tiles, data_dir, test_images_dir)\n",
    "copy_files([get_mask_name(tile) for tile in test_tiles], mask_dir, test_masks_dir)\n",
    "\n",
    "print(\"Data split and saved successfully!\")"
   ]
  },
  {
   "cell_type": "code",
   "execution_count": 22,
   "id": "8c435d9b-4c52-4cbc-bbe9-16f920262c4f",
   "metadata": {},
   "outputs": [
    {
     "name": "stdout",
     "output_type": "stream",
     "text": [
      "D:\\Masters\\OVGU\\VII_Semester\\Thesis\\jupyter_notebooks\\Data/Final_Dataset\\train\\tiles\n"
     ]
    }
   ],
   "source": [
    "print(train_images_dir)"
   ]
  },
  {
   "cell_type": "code",
   "execution_count": null,
   "id": "0b206756-c194-42bf-b322-629c72c68d30",
   "metadata": {},
   "outputs": [],
   "source": []
  }
 ],
 "metadata": {
  "kernelspec": {
   "display_name": "Python 3 (ipykernel)",
   "language": "python",
   "name": "python3"
  },
  "language_info": {
   "codemirror_mode": {
    "name": "ipython",
    "version": 3
   },
   "file_extension": ".py",
   "mimetype": "text/x-python",
   "name": "python",
   "nbconvert_exporter": "python",
   "pygments_lexer": "ipython3",
   "version": "3.11.7"
  }
 },
 "nbformat": 4,
 "nbformat_minor": 5
}
