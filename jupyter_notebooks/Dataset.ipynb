{
 "cells": [
  {
   "cell_type": "markdown",
   "id": "3ff9aaef-714d-4813-b4b9-9b7228f7856a",
   "metadata": {},
   "source": [
    "## Method-1"
   ]
  },
  {
   "cell_type": "code",
   "execution_count": 1,
   "id": "e6aa0426-1db1-4aca-99bf-d54ecff9b2d4",
   "metadata": {},
   "outputs": [],
   "source": [
    "import os\n",
    "import shutil\n",
    "from sklearn.model_selection import train_test_split\n",
    "import random"
   ]
  },
  {
   "cell_type": "code",
   "execution_count": 2,
   "id": "66922268-4788-4b30-a27a-34a3d21ae064",
   "metadata": {},
   "outputs": [
    {
     "name": "stdout",
     "output_type": "stream",
     "text": [
      "D:\\Masters\\OVGU\\VII_Semester\\Thesis\\jupyter_notebooks\n"
     ]
    }
   ],
   "source": [
    "curr_path = os.getcwd()\n",
    "print(curr_path)"
   ]
  },
  {
   "cell_type": "code",
   "execution_count": 3,
   "id": "e5a8c753-b99f-477d-ad96-ec7f5f1a3d87",
   "metadata": {},
   "outputs": [],
   "source": [
    "# Directory paths\n",
    "input_dir = os.path.join(curr_path, 'Data/Dataset/Full Dataset/tiles')\n",
    "mask_dir = os.path.join(curr_path, 'Data/Dataset/Full Dataset/masks')"
   ]
  },
  {
   "cell_type": "code",
   "execution_count": 4,
   "id": "b135814e-6398-4b3c-bbd8-fd495ad0d3da",
   "metadata": {},
   "outputs": [
    {
     "name": "stdout",
     "output_type": "stream",
     "text": [
      "8021\n",
      "8021\n"
     ]
    }
   ],
   "source": [
    "# List all input and mask files\n",
    "input_files = sorted(os.listdir(input_dir))\n",
    "mask_files = sorted(os.listdir(mask_dir))\n",
    "\n",
    "print(len(input_files))\n",
    "print(len(mask_files))"
   ]
  },
  {
   "cell_type": "code",
   "execution_count": 6,
   "id": "e5e51dfc-9a91-4d74-9b19-ac4422d0ab00",
   "metadata": {},
   "outputs": [
    {
     "name": "stdout",
     "output_type": "stream",
     "text": [
      "{1, 2, 3, 4, 5, 6, 7, 8, 9, 10, 11, 12, 13, 14, 15, 16, 17, 18, 19, 20, 21, 22, 23, 24, 25, 26, 27}\n"
     ]
    }
   ],
   "source": [
    "# Extract the DOP index from the filenames (input_0_0_0 and mask_0_0_0)\n",
    "dop_indices = set([int(f.split('_')[1]) for f in input_files])\n",
    "print(dop_indices)"
   ]
  },
  {
   "cell_type": "code",
   "execution_count": 7,
   "id": "b6328b3e-6b70-49fe-9465-58d220e4846f",
   "metadata": {},
   "outputs": [],
   "source": [
    "# Split DOP indices into train, val, test (e.g., 70% train, 15% val, 15% test)\n",
    "dop_indices = list(dop_indices)\n",
    "train_dops, test_val_dops = train_test_split(dop_indices, test_size=0.3, random_state=42)\n",
    "val_dops, test_dops = train_test_split(test_val_dops, test_size=0.5, random_state=42)"
   ]
  },
  {
   "cell_type": "code",
   "execution_count": 8,
   "id": "35e0c804-e746-43df-9692-42bc7836862b",
   "metadata": {},
   "outputs": [
    {
     "name": "stdout",
     "output_type": "stream",
     "text": [
      "[25, 2, 5, 6, 3, 16, 23, 4, 26, 24, 19, 27, 21, 8, 11, 15, 20, 7]\n",
      "[10, 1, 22, 17]\n",
      "[18, 14, 12, 9, 13]\n"
     ]
    }
   ],
   "source": [
    "print(train_dops)\n",
    "print(val_dops)\n",
    "print(test_dops)"
   ]
  },
  {
   "cell_type": "code",
   "execution_count": 9,
   "id": "522e04dc-b9c0-48e2-98ef-39820e9c2f1c",
   "metadata": {},
   "outputs": [],
   "source": [
    "# Function to copy files to their respective folders\n",
    "def copy_files(files, dest_dir):\n",
    "    if not os.path.exists(dest_dir):\n",
    "        os.makedirs(dest_dir)\n",
    "    for file in files:\n",
    "        shutil.copy(file, dest_dir)"
   ]
  },
  {
   "cell_type": "code",
   "execution_count": 5,
   "id": "1e4827fe-f4f4-4a04-825b-d0de5ffdddf3",
   "metadata": {},
   "outputs": [],
   "source": [
    "# Create directories for train, val, test\n",
    "train_input_dir = os.path.join(curr_path, 'Data\\\\Dataset\\\\Final_Dataset_1\\\\train\\\\tiles')\n",
    "train_mask_dir = os.path.join(curr_path, 'Data\\\\Dataset\\\\Final_Dataset_1\\\\train\\\\masks')\n",
    "val_input_dir = os.path.join(curr_path, 'Data\\\\Dataset\\\\Final_Dataset_1\\\\val\\\\tiles')\n",
    "val_mask_dir = os.path.join(curr_path, 'Data\\\\Dataset\\\\Final_Dataset_1\\\\val\\\\masks')\n",
    "test_input_dir = os.path.join(curr_path, 'Data\\\\Dataset\\\\Final_Dataset_1\\\\test\\\\tiles')\n",
    "test_mask_dir = os.path.join(curr_path, 'Data\\\\Dataset\\\\Final_Dataset_1\\\\test\\\\masks')"
   ]
  },
  {
   "cell_type": "code",
   "execution_count": 11,
   "id": "7f72bf50-3d1d-4ff2-a91f-2b3ca40ef7ef",
   "metadata": {},
   "outputs": [],
   "source": [
    "# Separate files by DOP index\n",
    "train_input_files = [f for f in input_files if int(f.split('_')[1]) in train_dops]\n",
    "train_mask_files = [f for f in mask_files if int(f.split('_')[1]) in train_dops]\n",
    "\n",
    "val_input_files = [f for f in input_files if int(f.split('_')[1]) in val_dops]\n",
    "val_mask_files = [f for f in mask_files if int(f.split('_')[1]) in val_dops]\n",
    "\n",
    "test_input_files = [f for f in input_files if int(f.split('_')[1]) in test_dops]\n",
    "test_mask_files = [f for f in mask_files if int(f.split('_')[1]) in test_dops]"
   ]
  },
  {
   "cell_type": "code",
   "execution_count": 12,
   "id": "9022d76c-a8dd-4222-866b-30dbc5ea39e0",
   "metadata": {},
   "outputs": [],
   "source": [
    "# Copy files to the respective directories\n",
    "copy_files([os.path.join(input_dir, f) for f in train_input_files], train_input_dir)\n",
    "copy_files([os.path.join(mask_dir, f) for f in train_mask_files], train_mask_dir)\n",
    "\n",
    "copy_files([os.path.join(input_dir, f) for f in val_input_files], val_input_dir)\n",
    "copy_files([os.path.join(mask_dir, f) for f in val_mask_files], val_mask_dir)\n",
    "\n",
    "copy_files([os.path.join(input_dir, f) for f in test_input_files], test_input_dir)\n",
    "copy_files([os.path.join(mask_dir, f) for f in test_mask_files], test_mask_dir)\n"
   ]
  },
  {
   "cell_type": "markdown",
   "id": "21db64d1-6379-4b50-b6b0-ea692f8fc16d",
   "metadata": {},
   "source": [
    "## Method-2"
   ]
  },
  {
   "cell_type": "code",
   "execution_count": 6,
   "id": "db3f8af2-b5bf-42e6-b282-273882c7f5a2",
   "metadata": {},
   "outputs": [],
   "source": [
    "# Group tiles by DOP index (the first number in the filename)\n",
    "tile_groups = {}\n",
    "for f in input_files:\n",
    "    dop_index = int(f.split('_')[1])\n",
    "    if dop_index not in tile_groups:\n",
    "        tile_groups[dop_index] = []\n",
    "    tile_groups[dop_index].append(f)"
   ]
  },
  {
   "cell_type": "code",
   "execution_count": 7,
   "id": "24455b5f-b299-4b93-b08e-9e5610ad2052",
   "metadata": {},
   "outputs": [],
   "source": [
    "# Calculate the total number of tiles\n",
    "total_tiles = len(input_files)\n",
    "\n",
    "# Define the split ratios\n",
    "train_ratio = 0.7\n",
    "val_ratio = 0.15\n",
    "test_ratio = 0.15\n",
    "\n",
    "# Calculate how many tiles we need for each split\n",
    "train_tile_count = int(total_tiles * train_ratio)\n",
    "val_tile_count = int(total_tiles * val_ratio)\n",
    "test_tile_count = total_tiles - train_tile_count - val_tile_count  # remaining tiles for test"
   ]
  },
  {
   "cell_type": "code",
   "execution_count": 8,
   "id": "650e6225-1c26-41e5-b006-13ff86fb6820",
   "metadata": {},
   "outputs": [
    {
     "name": "stdout",
     "output_type": "stream",
     "text": [
      "5614\n",
      "1203\n",
      "1204\n"
     ]
    }
   ],
   "source": [
    "print(train_tile_count)\n",
    "print(val_tile_count)\n",
    "print(test_tile_count)"
   ]
  },
  {
   "cell_type": "code",
   "execution_count": 9,
   "id": "136786f7-c8f9-4794-a75c-09ac0bad613c",
   "metadata": {},
   "outputs": [],
   "source": [
    "# Function to copy files to their respective folders\n",
    "def copy_files(files, input_dir, mask_dir, dest_input_dir, dest_mask_dir):\n",
    "    # Create destination directories if they don't exist\n",
    "    if not os.path.exists(dest_input_dir):\n",
    "        os.makedirs(dest_input_dir)\n",
    "    if not os.path.exists(dest_mask_dir):\n",
    "        os.makedirs(dest_mask_dir)\n",
    "    \n",
    "    for file in files:\n",
    "        # Copy the input file to the destination input directory\n",
    "        shutil.copy(os.path.join(input_dir, file), dest_input_dir)\n",
    "        \n",
    "        # Find and copy the corresponding mask file to the destination mask directory\n",
    "        mask_file = file.replace('input', 'mask')  # Assuming the file naming pattern\n",
    "        shutil.copy(os.path.join(mask_dir, mask_file), dest_mask_dir)\n"
   ]
  },
  {
   "cell_type": "code",
   "execution_count": 10,
   "id": "b1f83619-5f49-4bbb-aad3-97f45ea6aa4f",
   "metadata": {},
   "outputs": [],
   "source": [
    "# Select DOPs for validation and test sets while ensuring no overlap\n",
    "all_dop_indices = list(tile_groups.keys())\n",
    "random.shuffle(all_dop_indices)\n",
    "\n",
    "val_dop_indices = []\n",
    "test_dop_indices = []\n",
    "\n",
    "val_tiles, test_tiles, train_tiles = [], [], []"
   ]
  },
  {
   "cell_type": "code",
   "execution_count": 11,
   "id": "a1b4b77f-9e19-4719-b864-10e795c2de02",
   "metadata": {},
   "outputs": [],
   "source": [
    "# Select DOPs for validation set\n",
    "for dop_index in all_dop_indices:\n",
    "    val_dop_indices.append(dop_index)\n",
    "    val_tiles.extend(tile_groups[dop_index])\n",
    "    if len(val_tiles) >= val_tile_count:\n",
    "        break"
   ]
  },
  {
   "cell_type": "code",
   "execution_count": 12,
   "id": "a69d352d-3873-40e4-9f9d-edf07c2ca8ea",
   "metadata": {},
   "outputs": [],
   "source": [
    "# Select DOPs for test set\n",
    "for dop_index in all_dop_indices:\n",
    "    if dop_index not in val_dop_indices:\n",
    "        test_dop_indices.append(dop_index)\n",
    "        test_tiles.extend(tile_groups[dop_index])\n",
    "        if len(test_tiles) >= test_tile_count:\n",
    "            break"
   ]
  },
  {
   "cell_type": "code",
   "execution_count": 13,
   "id": "6418365c-a83c-4a82-bfc5-1c9c0e5748ac",
   "metadata": {},
   "outputs": [],
   "source": [
    "# Assign remaining DOPs to training set\n",
    "for dop_index in all_dop_indices:\n",
    "    if dop_index not in val_dop_indices and dop_index not in test_dop_indices:\n",
    "        train_tiles.extend(tile_groups[dop_index])"
   ]
  },
  {
   "cell_type": "code",
   "execution_count": 14,
   "id": "7a4ce52e-eb7e-4171-bd09-1a13fd69c601",
   "metadata": {},
   "outputs": [],
   "source": [
    "# Ensure train set has enough tiles (may have slight imbalance due to tile distribution)\n",
    "while len(train_tiles) < train_tile_count and test_tiles:\n",
    "    train_tiles.append(test_tiles.pop())"
   ]
  },
  {
   "cell_type": "code",
   "execution_count": 15,
   "id": "6b708dea-3aef-444d-85da-d51d166f90b5",
   "metadata": {},
   "outputs": [
    {
     "name": "stdout",
     "output_type": "stream",
     "text": [
      "Train tiles: 5614, Validation tiles: 1545, Test tiles: 862\n"
     ]
    }
   ],
   "source": [
    "# Copy the selected files to their respective directories\n",
    "copy_files(train_tiles, input_dir, mask_dir, train_input_dir, train_mask_dir)\n",
    "copy_files(val_tiles, input_dir, mask_dir, val_input_dir, val_mask_dir)\n",
    "copy_files(test_tiles, input_dir, mask_dir, test_input_dir, test_mask_dir)\n",
    "\n",
    "print(f\"Train tiles: {len(train_tiles)}, Validation tiles: {len(val_tiles)}, Test tiles: {len(test_tiles)}\")"
   ]
  },
  {
   "cell_type": "code",
   "execution_count": null,
   "id": "86e23e6f-3a61-4524-b831-5a65e368b592",
   "metadata": {},
   "outputs": [],
   "source": []
  }
 ],
 "metadata": {
  "kernelspec": {
   "display_name": "Python 3 (ipykernel)",
   "language": "python",
   "name": "python3"
  },
  "language_info": {
   "codemirror_mode": {
    "name": "ipython",
    "version": 3
   },
   "file_extension": ".py",
   "mimetype": "text/x-python",
   "name": "python",
   "nbconvert_exporter": "python",
   "pygments_lexer": "ipython3",
   "version": "3.11.7"
  }
 },
 "nbformat": 4,
 "nbformat_minor": 5
}
