{
 "cells": [
  {
   "cell_type": "code",
   "execution_count": 8,
   "id": "eef00130-5d0a-4cff-a00f-0f680cd5c28c",
   "metadata": {},
   "outputs": [],
   "source": [
    "import rasterio\n",
    "import os\n",
    "import matplotlib.pyplot as plt\n",
    "import numpy as np\n",
    "import cv2"
   ]
  },
  {
   "cell_type": "code",
   "execution_count": 9,
   "id": "1abe1d8f-75e2-44cf-9e78-55f100aba57b",
   "metadata": {},
   "outputs": [],
   "source": [
    "def dilate_tiff(input_tiff, output_tiff, kernel_size=3):\n",
    "  with rasterio.open(input_tiff, 'r') as src:\n",
    "    img = src.read(1)  # Read the first band\n",
    "\n",
    "  # Convert to OpenCV format\n",
    "  img_cv = np.uint8(img)\n",
    "\n",
    "  # Create a dilation kernel\n",
    "  kernel = np.ones((kernel_size, kernel_size), np.uint8)\n",
    "\n",
    "  # Apply dilation\n",
    "  dilated_img = cv2.dilate(img_cv, kernel, iterations=1)\n",
    "\n",
    "  # Create a new dataset for the dilated image\n",
    "  with rasterio.open(output_tiff, 'w', **src.meta) as dst:\n",
    "      dst.write(dilated_img, 1)"
   ]
  },
  {
   "cell_type": "code",
   "execution_count": 10,
   "id": "39697b7f-5477-4444-bae4-a1388b749215",
   "metadata": {},
   "outputs": [
    {
     "ename": "RasterioIOError",
     "evalue": "D:/Masters/OVGU/VII_Semester/Thesis/jupyter_notebooks/forests/32_656_5818_2_rast.tif: No such file or directory",
     "output_type": "error",
     "traceback": [
      "\u001b[1;31m---------------------------------------------------------------------------\u001b[0m",
      "\u001b[1;31mCPLE_OpenFailedError\u001b[0m                      Traceback (most recent call last)",
      "File \u001b[1;32mrasterio\\\\_base.pyx:310\u001b[0m, in \u001b[0;36mrasterio._base.DatasetBase.__init__\u001b[1;34m()\u001b[0m\n",
      "File \u001b[1;32mrasterio\\\\_base.pyx:221\u001b[0m, in \u001b[0;36mrasterio._base.open_dataset\u001b[1;34m()\u001b[0m\n",
      "File \u001b[1;32mrasterio\\\\_err.pyx:221\u001b[0m, in \u001b[0;36mrasterio._err.exc_wrap_pointer\u001b[1;34m()\u001b[0m\n",
      "\u001b[1;31mCPLE_OpenFailedError\u001b[0m: D:/Masters/OVGU/VII_Semester/Thesis/jupyter_notebooks/forests/32_656_5818_2_rast.tif: No such file or directory",
      "\nDuring handling of the above exception, another exception occurred:\n",
      "\u001b[1;31mRasterioIOError\u001b[0m                           Traceback (most recent call last)",
      "Cell \u001b[1;32mIn[10], line 6\u001b[0m\n\u001b[0;32m      3\u001b[0m output_tiff \u001b[38;5;241m=\u001b[39m \u001b[38;5;124m'\u001b[39m\u001b[38;5;124mdilated.tif\u001b[39m\u001b[38;5;124m'\u001b[39m\n\u001b[0;32m      4\u001b[0m kernel_size \u001b[38;5;241m=\u001b[39m \u001b[38;5;241m5\u001b[39m\n\u001b[1;32m----> 6\u001b[0m dilate_tiff(input_tiff, output_tiff, kernel_size)\n",
      "Cell \u001b[1;32mIn[9], line 2\u001b[0m, in \u001b[0;36mdilate_tiff\u001b[1;34m(input_tiff, output_tiff, kernel_size)\u001b[0m\n\u001b[0;32m      1\u001b[0m \u001b[38;5;28;01mdef\u001b[39;00m \u001b[38;5;21mdilate_tiff\u001b[39m(input_tiff, output_tiff, kernel_size\u001b[38;5;241m=\u001b[39m\u001b[38;5;241m3\u001b[39m):\n\u001b[1;32m----> 2\u001b[0m   \u001b[38;5;28;01mwith\u001b[39;00m rasterio\u001b[38;5;241m.\u001b[39mopen(input_tiff, \u001b[38;5;124m'\u001b[39m\u001b[38;5;124mr\u001b[39m\u001b[38;5;124m'\u001b[39m) \u001b[38;5;28;01mas\u001b[39;00m src:\n\u001b[0;32m      3\u001b[0m     img \u001b[38;5;241m=\u001b[39m src\u001b[38;5;241m.\u001b[39mread(\u001b[38;5;241m1\u001b[39m)  \u001b[38;5;66;03m# Read the first band\u001b[39;00m\n\u001b[0;32m      5\u001b[0m   \u001b[38;5;66;03m# Convert to OpenCV format\u001b[39;00m\n",
      "File \u001b[1;32mC:\\ProgramData\\anaconda3\\Lib\\site-packages\\rasterio\\env.py:451\u001b[0m, in \u001b[0;36mensure_env_with_credentials.<locals>.wrapper\u001b[1;34m(*args, **kwds)\u001b[0m\n\u001b[0;32m    448\u001b[0m     session \u001b[38;5;241m=\u001b[39m DummySession()\n\u001b[0;32m    450\u001b[0m \u001b[38;5;28;01mwith\u001b[39;00m env_ctor(session\u001b[38;5;241m=\u001b[39msession):\n\u001b[1;32m--> 451\u001b[0m     \u001b[38;5;28;01mreturn\u001b[39;00m f(\u001b[38;5;241m*\u001b[39margs, \u001b[38;5;241m*\u001b[39m\u001b[38;5;241m*\u001b[39mkwds)\n",
      "File \u001b[1;32mC:\\ProgramData\\anaconda3\\Lib\\site-packages\\rasterio\\__init__.py:317\u001b[0m, in \u001b[0;36mopen\u001b[1;34m(fp, mode, driver, width, height, count, crs, transform, dtype, nodata, sharing, **kwargs)\u001b[0m\n\u001b[0;32m    314\u001b[0m path \u001b[38;5;241m=\u001b[39m _parse_path(raw_dataset_path)\n\u001b[0;32m    316\u001b[0m \u001b[38;5;28;01mif\u001b[39;00m mode \u001b[38;5;241m==\u001b[39m \u001b[38;5;124m\"\u001b[39m\u001b[38;5;124mr\u001b[39m\u001b[38;5;124m\"\u001b[39m:\n\u001b[1;32m--> 317\u001b[0m     dataset \u001b[38;5;241m=\u001b[39m DatasetReader(path, driver\u001b[38;5;241m=\u001b[39mdriver, sharing\u001b[38;5;241m=\u001b[39msharing, \u001b[38;5;241m*\u001b[39m\u001b[38;5;241m*\u001b[39mkwargs)\n\u001b[0;32m    318\u001b[0m \u001b[38;5;28;01melif\u001b[39;00m mode \u001b[38;5;241m==\u001b[39m \u001b[38;5;124m\"\u001b[39m\u001b[38;5;124mr+\u001b[39m\u001b[38;5;124m\"\u001b[39m:\n\u001b[0;32m    319\u001b[0m     dataset \u001b[38;5;241m=\u001b[39m get_writer_for_path(path, driver\u001b[38;5;241m=\u001b[39mdriver)(\n\u001b[0;32m    320\u001b[0m         path, mode, driver\u001b[38;5;241m=\u001b[39mdriver, sharing\u001b[38;5;241m=\u001b[39msharing, \u001b[38;5;241m*\u001b[39m\u001b[38;5;241m*\u001b[39mkwargs\n\u001b[0;32m    321\u001b[0m     )\n",
      "File \u001b[1;32mrasterio\\\\_base.pyx:312\u001b[0m, in \u001b[0;36mrasterio._base.DatasetBase.__init__\u001b[1;34m()\u001b[0m\n",
      "\u001b[1;31mRasterioIOError\u001b[0m: D:/Masters/OVGU/VII_Semester/Thesis/jupyter_notebooks/forests/32_656_5818_2_rast.tif: No such file or directory"
     ]
    }
   ],
   "source": [
    "# Example usage:\n",
    "input_tiff = os.path.join(os.getcwd(), 'forests/32_656_5818_2_rast.tif')\n",
    "output_tiff = 'dilated.tif'\n",
    "kernel_size = 5\n",
    "\n",
    "dilate_tiff(input_tiff, output_tiff, kernel_size)"
   ]
  },
  {
   "cell_type": "code",
   "execution_count": 7,
   "id": "21a4b154-b671-4c74-8d87-ba117b93fd80",
   "metadata": {},
   "outputs": [
    {
     "ename": "NameError",
     "evalue": "name 'rasterio' is not defined",
     "output_type": "error",
     "traceback": [
      "\u001b[1;31m---------------------------------------------------------------------------\u001b[0m",
      "\u001b[1;31mNameError\u001b[0m                                 Traceback (most recent call last)",
      "Cell \u001b[1;32mIn[7], line 1\u001b[0m\n\u001b[1;32m----> 1\u001b[0m \u001b[38;5;28;01mwith\u001b[39;00m rasterio\u001b[38;5;241m.\u001b[39mopen(\u001b[38;5;124m'\u001b[39m\u001b[38;5;124mdilated.tif\u001b[39m\u001b[38;5;124m'\u001b[39m) \u001b[38;5;28;01mas\u001b[39;00m src:\n\u001b[0;32m      2\u001b[0m     img \u001b[38;5;241m=\u001b[39m src\u001b[38;5;241m.\u001b[39mread()\n\u001b[0;32m      4\u001b[0m     \u001b[38;5;66;03m# Convert to numpy array for visualization\u001b[39;00m\n",
      "\u001b[1;31mNameError\u001b[0m: name 'rasterio' is not defined"
     ]
    }
   ],
   "source": [
    "with rasterio.open('dilated.tif') as src:\n",
    "    img = src.read()\n",
    "\n",
    "    # Convert to numpy array for visualization\n",
    "    img_array = np.squeeze(img)  # Remove single-band dimension if necessary\n",
    "\n",
    "    # Display the image\n",
    "    plt.imshow(img_array, cmap='gray')  # Adjust cmap for different colormaps\n",
    "    plt.show()"
   ]
  },
  {
   "cell_type": "code",
   "execution_count": 36,
   "id": "79d158b4-28d6-456b-97d0-6ecbbe1871f6",
   "metadata": {},
   "outputs": [],
   "source": [
    "img = cv2.imread('forests/tiles_tif/output_0_7168.tif', cv2.IMREAD_ANYDEPTH)"
   ]
  },
  {
   "cell_type": "code",
   "execution_count": 37,
   "id": "022ac627-fd80-4083-b788-f925d93b6810",
   "metadata": {},
   "outputs": [
    {
     "data": {
      "text/plain": [
       "<matplotlib.image.AxesImage at 0x7f2551f449e0>"
      ]
     },
     "execution_count": 37,
     "metadata": {},
     "output_type": "execute_result"
    },
    {
     "data": {
      "image/png": "[encoded data removed]",
      "text/plain": [
       "<Figure size 640x480 with 1 Axes>"
      ]
     },
     "metadata": {},
     "output_type": "display_data"
    }
   ],
   "source": [
    "plt.imshow(img)"
   ]
  },
  {
   "cell_type": "code",
   "execution_count": 46,
   "id": "7b27a5d2-a95a-4ea9-aa3a-9dcf0ad12d81",
   "metadata": {},
   "outputs": [
    {
     "data": {
      "text/plain": [
       "<matplotlib.image.AxesImage at 0x7f25522a2240>"
      ]
     },
     "execution_count": 46,
     "metadata": {},
     "output_type": "execute_result"
    },
    {
     "data": {
      "image/png": "[encoded data removed]",
      "text/plain": [
       "<Figure size 640x480 with 1 Axes>"
      ]
     },
     "metadata": {},
     "output_type": "display_data"
    }
   ],
   "source": [
    "int_img = img.astype(np.uint8)\n",
    "plt.imshow(int_img)"
   ]
  },
  {
   "cell_type": "code",
   "execution_count": 42,
   "id": "42adca6e-396d-4055-a8a4-fb40e97d8afc",
   "metadata": {},
   "outputs": [],
   "source": [
    "lineLength = 1\n",
    "lineGap = 100"
   ]
  },
  {
   "cell_type": "code",
   "execution_count": 47,
   "id": "068b757e-014f-4f7f-a830-cdfbb9078e55",
   "metadata": {},
   "outputs": [],
   "source": [
    "lines = cv2.HoughLinesP(int_img, 1, np.pi/180, threshold=100, minLineLength=lineLength, maxLineGap=lineGap)"
   ]
  },
  {
   "cell_type": "code",
   "execution_count": 51,
   "id": "d7994a98-dcd0-4ddb-9282-1092a5f3a60c",
   "metadata": {},
   "outputs": [
    {
     "data": {
      "text/plain": [
       "array([[[ 17, 511, 218, 376]],\n",
       "\n",
       "       [[ 12, 511, 160, 412]],\n",
       "\n",
       "       [[319, 306, 430, 232]],\n",
       "\n",
       "       [[184, 511, 511, 307]],\n",
       "\n",
       "       [[ 29, 505, 220, 376]],\n",
       "\n",
       "       [[333, 421, 510, 310]],\n",
       "\n",
       "       [[216, 261, 369, 150]],\n",
       "\n",
       "       [[ 12, 510, 102, 450]],\n",
       "\n",
       "       [[265, 337, 430, 230]],\n",
       "\n",
       "       [[182, 511, 256, 465]],\n",
       "\n",
       "       [[ 18, 511, 217, 377]],\n",
       "\n",
       "       [[216, 259, 369, 147]],\n",
       "\n",
       "       [[186, 511, 511, 308]],\n",
       "\n",
       "       [[217, 261, 363, 155]],\n",
       "\n",
       "       [[443, 347, 511, 304]],\n",
       "\n",
       "       [[ 14, 511, 430, 231]],\n",
       "\n",
       "       [[216, 257, 369, 146]],\n",
       "\n",
       "       [[264, 336, 428, 230]],\n",
       "\n",
       "       [[218, 258, 369, 148]],\n",
       "\n",
       "       [[333, 422, 480, 330]],\n",
       "\n",
       "       [[385, 487, 511, 411]],\n",
       "\n",
       "       [[ 78, 473, 220, 377]],\n",
       "\n",
       "       [[385, 485, 511, 410]],\n",
       "\n",
       "       [[389, 489, 509, 414]],\n",
       "\n",
       "       [[387, 489, 511, 412]],\n",
       "\n",
       "       [[267, 337, 395, 254]],\n",
       "\n",
       "       [[219, 261, 337, 175]],\n",
       "\n",
       "       [[181, 511, 256, 464]],\n",
       "\n",
       "       [[264, 335, 426, 230]],\n",
       "\n",
       "       [[402, 474, 511, 408]],\n",
       "\n",
       "       [[333, 424, 427, 365]],\n",
       "\n",
       "       [[188, 401, 220, 379]]], dtype=int32)"
      ]
     },
     "execution_count": 51,
     "metadata": {},
     "output_type": "execute_result"
    }
   ],
   "source": [
    "lines"
   ]
  },
  {
   "cell_type": "code",
   "execution_count": 52,
   "id": "bb3a894d-f39c-405b-8b06-388116da272d",
   "metadata": {},
   "outputs": [
    {
     "data": {
      "text/plain": [
       "True"
      ]
     },
     "execution_count": 52,
     "metadata": {},
     "output_type": "execute_result"
    }
   ],
   "source": [
    "line_img = np.zeros_like(img, dtype = np.uint8)\n",
    "\n",
    "# Draw lines on the blank image\n",
    "for line in lines:\n",
    "    x1, y1, x2, y2 = line[0]\n",
    "    cv2.line(line_img, (x1, y1), (x2, y2), (255, 255, 255), 1)  # Adjust line thickness as needed\n",
    "\n",
    "# Save the image\n",
    "cv2.imwrite('lines_img.jpg', line_img)"
   ]
  },
  {
   "cell_type": "markdown",
   "id": "61d807ae-4251-4f42-9213-6e622adb32d6",
   "metadata": {},
   "source": [
    "## Coordinate extraction"
   ]
  },
  {
   "cell_type": "code",
   "execution_count": 2,
   "id": "da92b72d-2281-4586-904b-e0923c908c68",
   "metadata": {},
   "outputs": [],
   "source": [
    "def extract_line_segments(image_path):\n",
    "    img = cv2.imread(image_path, cv2.IMREAD_ANYDEPTH)\n",
    "    img = img.astype(np.uint8)\n",
    "    contours, _ = cv2.findContours(img, cv2.RETR_EXTERNAL, cv2.CHAIN_APPROX_SIMPLE)\n",
    "\n",
    "    line_segments = []\n",
    "    for contour in contours:\n",
    "        # Approximate the contour\n",
    "        epsilon = 0.01 * cv2.arcLength(contour, True)\n",
    "        approx = cv2.approxPolyDP(contour, epsilon, True)\n",
    "\n",
    "        # Extract line segments (adjust as needed)\n",
    "        if len(approx) >= 2:\n",
    "            x1, y1 = approx[0][0]\n",
    "            x2, y2 = approx[1][0]\n",
    "            line_segments.append((x1, y1, x2, y2))\n",
    "\n",
    "    return line_segments"
   ]
  },
  {
   "cell_type": "code",
   "execution_count": 3,
   "id": "6e188096-ccac-447c-811b-351fddaed903",
   "metadata": {},
   "outputs": [],
   "source": [
    "line_segments = extract_line_segments('dilated.tif')"
   ]
  },
  {
   "cell_type": "code",
   "execution_count": 4,
   "id": "6bab74b8-c748-4520-918e-1ef9e0292454",
   "metadata": {},
   "outputs": [
    {
     "data": {
      "text/plain": [
       "[(np.int32(3717), np.int32(9777), np.int32(3586), np.int32(9822)),\n",
       " (np.int32(3261), np.int32(9740), np.int32(2652), np.int32(9881)),\n",
       " (np.int32(3720), np.int32(9690), np.int32(3522), np.int32(9762)),\n",
       " (np.int32(3152), np.int32(9673), np.int32(2627), np.int32(9807)),\n",
       " (np.int32(3080), np.int32(9613), np.int32(2607), np.int32(9728)),\n",
       " (np.int32(3708), np.int32(9611), np.int32(3598), np.int32(9631)),\n",
       " (np.int32(2987), np.int32(9534), np.int32(2607), np.int32(9635)),\n",
       " (np.int32(3689), np.int32(9496), np.int32(3544), np.int32(9535)),\n",
       " (np.int32(2924), np.int32(9482), np.int32(2613), np.int32(9576)),\n",
       " (np.int32(2874), np.int32(9421), np.int32(2595), np.int32(9502)),\n",
       " (np.int32(2488), np.int32(9419), np.int32(1551), np.int32(9742)),\n",
       " (np.int32(3694), np.int32(9411), np.int32(3267), np.int32(9534)),\n",
       " (np.int32(2799), np.int32(9360), np.int32(2591), np.int32(9445)),\n",
       " (np.int32(3679), np.int32(9330), np.int32(3203), np.int32(9467)),\n",
       " (np.int32(2744), np.int32(9308), np.int32(2569), np.int32(9379)),\n",
       " (np.int32(2484), np.int32(9282), np.int32(1466), np.int32(9601)),\n",
       " (np.int32(3675), np.int32(9233), np.int32(3126), np.int32(9395)),\n",
       " (np.int32(2658), np.int32(9229), np.int32(2549), np.int32(9312)),\n",
       " (np.int32(1090), np.int32(8994), np.int32(970), np.int32(9053)),\n",
       " (np.int32(1041), np.int32(8931), np.int32(933), np.int32(8980)),\n",
       " (np.int32(972), np.int32(8836), np.int32(759), np.int32(8897)),\n",
       " (np.int32(1968), np.int32(8671), np.int32(1273), np.int32(9050)),\n",
       " (np.int32(1847), np.int32(8594), np.int32(1229), np.int32(8962)),\n",
       " (np.int32(1754), np.int32(8521), np.int32(1164), np.int32(8881)),\n",
       " (np.int32(1661), np.int32(8441), np.int32(1421), np.int32(8601)),\n",
       " (np.int32(496), np.int32(8049), np.int32(131), np.int32(8259)),\n",
       " (np.int32(1135), np.int32(7975), np.int32(788), np.int32(8262)),\n",
       " (np.int32(442), np.int32(7968), np.int32(80), np.int32(8184)),\n",
       " (np.int32(1074), np.int32(7919), np.int32(735), np.int32(8173)),\n",
       " (np.int32(399), np.int32(7877), np.int32(30), np.int32(8117)),\n",
       " (np.int32(989), np.int32(7870), np.int32(835), np.int32(7992)),\n",
       " (np.int32(920), np.int32(7797), np.int32(778), np.int32(7926)),\n",
       " (np.int32(855), np.int32(7723), np.int32(695), np.int32(7867)),\n",
       " (np.int32(296), np.int32(7716), np.int32(14), np.int32(7921)),\n",
       " (np.int32(805), np.int32(7658), np.int32(697), np.int32(7754)),\n",
       " (np.int32(256), np.int32(7631), np.int32(28), np.int32(7784)),\n",
       " (np.int32(220), np.int32(7544), np.int32(12), np.int32(7681)),\n",
       " (np.int32(597), np.int32(7516), np.int32(385), np.int32(7657)),\n",
       " (np.int32(890), np.int32(7486), np.int32(1215), np.int32(7861)),\n",
       " (np.int32(541), np.int32(7453), np.int32(333), np.int32(7592)),\n",
       " (np.int32(969), np.int32(7430), np.int32(1563), np.int32(8131)),\n",
       " (np.int32(430), np.int32(7398), np.int32(264), np.int32(7505)),\n",
       " (np.int32(1019), np.int32(7383), np.int32(2072), np.int32(8603)),\n",
       " (np.int32(1098), np.int32(7339), np.int32(2114), np.int32(8538)),\n",
       " (np.int32(369), np.int32(7314), np.int32(216), np.int32(7429)),\n",
       " (np.int32(1151), np.int32(7303), np.int32(2181), np.int32(8498)),\n",
       " (np.int32(1211), np.int32(7262), np.int32(2225), np.int32(8433)),\n",
       " (np.int32(1296), np.int32(7222), np.int32(2286), np.int32(8405)),\n",
       " (np.int32(3437), np.int32(7141), np.int32(3101), np.int32(7433)),\n",
       " (np.int32(1454), np.int32(7108), np.int32(2354), np.int32(8376)),\n",
       " (np.int32(1581), np.int32(7052), np.int32(2409), np.int32(8320)),\n",
       " (np.int32(1688), np.int32(6949), np.int32(2488), np.int32(8279)),\n",
       " (np.int32(3285), np.int32(6888), np.int32(2621), np.int32(7405)),\n",
       " (np.int32(1815), np.int32(6884), np.int32(2599), np.int32(8241)),\n",
       " (np.int32(1918), np.int32(6852), np.int32(2500), np.int32(7763)),\n",
       " (np.int32(1625), np.int32(6835), np.int32(1357), np.int32(6967)),\n",
       " (np.int32(3198), np.int32(6763), np.int32(2779), np.int32(7123)),\n",
       " (np.int32(9467), np.int32(6725), np.int32(9996), np.int32(6729)),\n",
       " (np.int32(3132), np.int32(6666), np.int32(2401), np.int32(7193)),\n",
       " (np.int32(1450), np.int32(6633), np.int32(1041), np.int32(6860)),\n",
       " (np.int32(3029), np.int32(6573), np.int32(2296), np.int32(7090)),\n",
       " (np.int32(9996), np.int32(6539), np.int32(9508), np.int32(6559)),\n",
       " (np.int32(1367), np.int32(6532), np.int32(1041), np.int32(6742)),\n",
       " (np.int32(1357), np.int32(6443), np.int32(921), np.int32(6707)),\n",
       " (np.int32(2974), np.int32(6436), np.int32(2213), np.int32(6979)),\n",
       " (np.int32(9988), np.int32(6410), np.int32(9520), np.int32(6438)),\n",
       " (np.int32(2910), np.int32(6315), np.int32(2100), np.int32(6856)),\n",
       " (np.int32(9992), np.int32(6277), np.int32(9520), np.int32(6297)),\n",
       " (np.int32(1320), np.int32(6221), np.int32(971), np.int32(6474)),\n",
       " (np.int32(9996), np.int32(6143), np.int32(9556), np.int32(6172)),\n",
       " (np.int32(2964), np.int32(6124), np.int32(4535), np.int32(8463)),\n",
       " (np.int32(1244), np.int32(6080), np.int32(695), np.int32(6458)),\n",
       " (np.int32(3073), np.int32(6056), np.int32(4632), np.int32(8426)),\n",
       " (np.int32(9999), np.int32(6050), np.int32(9572), np.int32(6063)),\n",
       " (np.int32(3146), np.int32(6013), np.int32(4737), np.int32(8374)),\n",
       " (np.int32(3223), np.int32(5940), np.int32(4818), np.int32(8331)),\n",
       " (np.int32(3324), np.int32(5892), np.int32(4915), np.int32(8265)),\n",
       " (np.int32(1145), np.int32(5882), np.int32(216), np.int32(6597)),\n",
       " (np.int32(3388), np.int32(5841), np.int32(5004), np.int32(8206)),\n",
       " (np.int32(9996), np.int32(5824), np.int32(9629), np.int32(5832)),\n",
       " (np.int32(1090), np.int32(5797), np.int32(441), np.int32(6263)),\n",
       " (np.int32(9999), np.int32(5675), np.int32(9637), np.int32(5691)),\n",
       " (np.int32(3667), np.int32(5661), np.int32(3922), np.int32(6137)),\n",
       " (np.int32(9999), np.int32(5546), np.int32(9649), np.int32(5558)),\n",
       " (np.int32(3906), np.int32(5512), np.int32(4156), np.int32(5993)),\n",
       " (np.int32(1002), np.int32(5473), np.int32(1438), np.int32(6225)),\n",
       " (np.int32(3999), np.int32(5456), np.int32(4243), np.int32(5973)),\n",
       " (np.int32(1119), np.int32(5399), np.int32(1547), np.int32(6154)),\n",
       " (np.int32(9999), np.int32(5396), np.int32(9669), np.int32(5412)),\n",
       " (np.int32(4099), np.int32(5383), np.int32(4344), np.int32(5940)),\n",
       " (np.int32(1220), np.int32(5335), np.int32(1972), np.int32(6599)),\n",
       " (np.int32(4200), np.int32(5312), np.int32(4443), np.int32(5890)),\n",
       " (np.int32(1305), np.int32(5234), np.int32(2113), np.int32(6518)),\n",
       " (np.int32(1358), np.int32(5177), np.int32(2194), np.int32(6449)),\n",
       " (np.int32(1438), np.int32(5064), np.int32(2299), np.int32(6389)),\n",
       " (np.int32(2437), np.int32(5046), np.int32(3046), np.int32(5917)),\n",
       " (np.int32(1554), np.int32(5016), np.int32(2402), np.int32(6310)),\n",
       " (np.int32(2525), np.int32(5002), np.int32(3111), np.int32(5860)),\n",
       " (np.int32(2625), np.int32(4969), np.int32(3195), np.int32(5788)),\n",
       " (np.int32(1628), np.int32(4955), np.int32(2493), np.int32(6268)),\n",
       " (np.int32(2682), np.int32(4924), np.int32(3294), np.int32(5744)),\n",
       " (np.int32(1675), np.int32(4890), np.int32(2579), np.int32(6223)),\n",
       " (np.int32(2753), np.int32(4866), np.int32(3364), np.int32(5694)),\n",
       " (np.int32(1780), np.int32(4842), np.int32(2684), np.int32(6163)),\n",
       " (np.int32(2837), np.int32(4821), np.int32(3447), np.int32(5641)),\n",
       " (np.int32(2899), np.int32(4796), np.int32(3515), np.int32(5600)),\n",
       " (np.int32(2983), np.int32(4773), np.int32(3208), np.int32(5091)),\n",
       " (np.int32(4848), np.int32(4633), np.int32(3964), np.int32(5197)),\n",
       " (np.int32(1955), np.int32(4628), np.int32(2293), np.int32(5084)),\n",
       " (np.int32(4821), np.int32(4540), np.int32(3896), np.int32(5074)),\n",
       " (np.int32(2069), np.int32(4535), np.int32(2404), np.int32(5001)),\n",
       " (np.int32(6506), np.int32(4534), np.int32(6675), np.int32(5463)),\n",
       " (np.int32(6603), np.int32(4498), np.int32(6655), np.int32(4952)),\n",
       " (np.int32(4772), np.int32(4470), np.int32(3818), np.int32(4962)),\n",
       " (np.int32(2163), np.int32(4462), np.int32(2491), np.int32(4941)),\n",
       " (np.int32(2256), np.int32(4387), np.int32(2594), np.int32(4852)),\n",
       " (np.int32(4749), np.int32(4383), np.int32(3764), np.int32(4876)),\n",
       " (np.int32(6876), np.int32(4320), np.int32(7082), np.int32(5362)),\n",
       " (np.int32(2348), np.int32(4303), np.int32(2705), np.int32(4792)),\n",
       " (np.int32(6957), np.int32(4288), np.int32(7203), np.int32(5358)),\n",
       " (np.int32(4679), np.int32(4248), np.int32(3705), np.int32(4791)),\n",
       " (np.int32(5952), np.int32(4178), np.int32(6251), np.int32(5499)),\n",
       " (np.int32(4658), np.int32(4163), np.int32(3671), np.int32(4722)),\n",
       " (np.int32(6021), np.int32(4142), np.int32(6332), np.int32(5475)),\n",
       " (np.int32(4612), np.int32(4088), np.int32(3604), np.int32(4653)),\n",
       " (np.int32(6090), np.int32(4073), np.int32(6417), np.int32(5487)),\n",
       " (np.int32(6219), np.int32(4001), np.int32(6526), np.int32(5471)),\n",
       " (np.int32(4570), np.int32(3967), np.int32(3534), np.int32(4540)),\n",
       " (np.int32(6304), np.int32(3940), np.int32(6590), np.int32(5479)),\n",
       " (np.int32(4523), np.int32(3870), np.int32(3473), np.int32(4452)),\n",
       " (np.int32(4491), np.int32(3777), np.int32(3453), np.int32(4349)),\n",
       " (np.int32(4440), np.int32(3700), np.int32(3382), np.int32(4280)),\n",
       " (np.int32(4404), np.int32(3597), np.int32(3297), np.int32(4159)),\n",
       " (np.int32(9387), np.int32(3573), np.int32(8248), np.int32(3795)),\n",
       " (np.int32(9361), np.int32(3504), np.int32(8253), np.int32(3720)),\n",
       " (np.int32(4349), np.int32(3460), np.int32(3267), np.int32(4074)),\n",
       " (np.int32(9375), np.int32(3395), np.int32(8238), np.int32(3657)),\n",
       " (np.int32(4313), np.int32(3391), np.int32(3217), np.int32(3999)),\n",
       " (np.int32(5209), np.int32(3363), np.int32(5443), np.int32(4441)),\n",
       " (np.int32(9383), np.int32(3322), np.int32(8242), np.int32(3611)),\n",
       " (np.int32(5270), np.int32(3321), np.int32(5533), np.int32(4387)),\n",
       " (np.int32(4267), np.int32(3298), np.int32(3163), np.int32(3908)),\n",
       " (np.int32(9371), np.int32(3274), np.int32(8220), np.int32(3546)),\n",
       " (np.int32(5361), np.int32(3260), np.int32(5610), np.int32(4342)),\n",
       " (np.int32(4243), np.int32(3232), np.int32(3920), np.int32(3373)),\n",
       " (np.int32(9367), np.int32(3195), np.int32(8188), np.int32(3455)),\n",
       " (np.int32(5444), np.int32(3183), np.int32(5696), np.int32(4290)),\n",
       " (np.int32(4211), np.int32(3149), np.int32(3076), np.int32(3775)),\n",
       " (np.int32(5713), np.int32(3090), np.int32(5945), np.int32(4118)),\n",
       " (np.int32(9353), np.int32(3088), np.int32(8192), np.int32(3356)),\n",
       " (np.int32(4190), np.int32(3076), np.int32(3023), np.int32(3727)),\n",
       " (np.int32(5780), np.int32(3071), np.int32(6014), np.int32(4093)),\n",
       " (np.int32(5953), np.int32(3051), np.int32(6145), np.int32(3988)),\n",
       " (np.int32(6101), np.int32(3049), np.int32(6299), np.int32(3901)),\n",
       " (np.int32(6024), np.int32(3045), np.int32(6222), np.int32(3942)),\n",
       " (np.int32(5862), np.int32(3043), np.int32(6081), np.int32(4047)),\n",
       " (np.int32(6175), np.int32(3037), np.int32(6367), np.int32(3845)),\n",
       " (np.int32(6396), np.int32(3027), np.int32(6549), np.int32(3695)),\n",
       " (np.int32(6262), np.int32(3025), np.int32(6436), np.int32(3812)),\n",
       " (np.int32(6339), np.int32(3021), np.int32(6507), np.int32(3750)),\n",
       " (np.int32(9335), np.int32(3011), np.int32(8186), np.int32(3262)),\n",
       " (np.int32(6464), np.int32(3009), np.int32(6618), np.int32(3671)),\n",
       " (np.int32(7670), np.int32(3001), np.int32(7365), np.int32(3071)),\n",
       " (np.int32(6537), np.int32(2980), np.int32(6688), np.int32(3604)),\n",
       " (np.int32(6630), np.int32(2974), np.int32(6729), np.int32(3432)),\n",
       " (np.int32(6711), np.int32(2965), np.int32(6834), np.int32(3514)),\n",
       " (np.int32(6820), np.int32(2947), np.int32(6919), np.int32(3468)),\n",
       " (np.int32(6894), np.int32(2912), np.int32(6999), np.int32(3401)),\n",
       " (np.int32(7654), np.int32(2892), np.int32(7312), np.int32(2970)),\n",
       " (np.int32(6955), np.int32(2886), np.int32(7052), np.int32(3363)),\n",
       " (np.int32(7111), np.int32(2868), np.int32(7177), np.int32(3284)),\n",
       " (np.int32(9342), np.int32(2859), np.int32(8191), np.int32(3164)),\n",
       " (np.int32(7046), np.int32(2858), np.int32(7112), np.int32(3338)),\n",
       " (np.int32(7177), np.int32(2844), np.int32(7244), np.int32(3268)),\n",
       " (np.int32(9348), np.int32(2796), np.int32(8379), np.int32(3049)),\n",
       " (np.int32(9342), np.int32(2736), np.int32(8354), np.int32(2962)),\n",
       " (np.int32(7604), np.int32(2658), np.int32(5722), np.int32(2979)),\n",
       " (np.int32(6622), np.int32(2654), np.int32(5592), np.int32(2800)),\n",
       " (np.int32(9348), np.int32(2653), np.int32(8357), np.int32(2907)),\n",
       " (np.int32(9334), np.int32(2594), np.int32(8361), np.int32(2843)),\n",
       " (np.int32(7586), np.int32(2575), np.int32(5607), np.int32(2880)),\n",
       " (np.int32(7578), np.int32(2505), np.int32(6667), np.int32(2664)),\n",
       " (np.int32(9326), np.int32(2503), np.int32(8534), np.int32(2687)),\n",
       " (np.int32(9310), np.int32(2427), np.int32(8659), np.int32(2592)),\n",
       " (np.int32(7572), np.int32(2404), np.int32(5554), np.int32(2731)),\n",
       " (np.int32(9324), np.int32(2370), np.int32(8732), np.int32(2511)),\n",
       " (np.int32(9304), np.int32(2322), np.int32(8869), np.int32(2400)),\n",
       " (np.int32(7570), np.int32(2285), np.int32(5538), np.int32(2642)),\n",
       " (np.int32(7547), np.int32(2176), np.int32(5534), np.int32(2529)),\n",
       " (np.int32(7517), np.int32(2073), np.int32(5508), np.int32(2436)),\n",
       " (np.int32(9900), np.int32(2001), np.int32(9912), np.int32(3564)),\n",
       " (np.int32(9771), np.int32(1977), np.int32(9824), np.int32(3573)),\n",
       " (np.int32(7507), np.int32(1964), np.int32(5469), np.int32(2351)),\n",
       " (np.int32(9654), np.int32(1913), np.int32(9723), np.int32(3560)),\n",
       " (np.int32(9412), np.int32(1896), np.int32(9557), np.int32(3597)),\n",
       " (np.int32(7438), np.int32(1874), np.int32(6979), np.int32(2017)),\n",
       " (np.int32(9541), np.int32(1872), np.int32(9642), np.int32(3548)),\n",
       " (np.int32(7404), np.int32(1800), np.int32(6051), np.int32(2212)),\n",
       " (np.int32(9449), np.int32(1776), np.int32(8908), np.int32(2041)),\n",
       " (np.int32(9396), np.int32(1712), np.int32(8916), np.int32(1946)),\n",
       " (np.int32(7384), np.int32(1697), np.int32(6913), np.int32(1857)),\n",
       " (np.int32(9358), np.int32(1671), np.int32(8916), np.int32(1881)),\n",
       " (np.int32(9340), np.int32(1599), np.int32(9183), np.int32(1693)),\n",
       " (np.int32(9291), np.int32(1534), np.int32(8902), np.int32(1728)),\n",
       " (np.int32(9237), np.int32(1459), np.int32(8898), np.int32(1627)),\n",
       " (np.int32(9203), np.int32(1405), np.int32(8876), np.int32(1560)),\n",
       " (np.int32(9150), np.int32(1328), np.int32(8880), np.int32(1437)),\n",
       " (np.int32(9132), np.int32(1280), np.int32(8880), np.int32(1372)),\n",
       " (np.int32(9112), np.int32(1227), np.int32(8865), np.int32(1304))]"
      ]
     },
     "execution_count": 4,
     "metadata": {},
     "output_type": "execute_result"
    }
   ],
   "source": [
    "line_segments"
   ]
  },
  {
   "cell_type": "code",
   "execution_count": 5,
   "id": "d704724c-b9e9-4e7a-a4d7-92f150dd5c0b",
   "metadata": {},
   "outputs": [
    {
     "data": {
      "text/plain": [
       "209"
      ]
     },
     "execution_count": 5,
     "metadata": {},
     "output_type": "execute_result"
    }
   ],
   "source": [
    "len(line_segments)"
   ]
  },
  {
   "cell_type": "code",
   "execution_count": 27,
   "id": "6e356cbd-cea9-449f-8a5c-e7c213b6414f",
   "metadata": {},
   "outputs": [],
   "source": [
    "def clip_line_to_tile(x1, y1, x2, y2, tile_origin_x, tile_origin_y, tile_size):\n",
    "  \"\"\"Clips a line segment to a tile.\n",
    "\n",
    "  Args:\n",
    "      x1, y1: Start coordinates of the line segment.\n",
    "      x2, y2: End coordinates of the line segment.\n",
    "      tile_origin_x: X-coordinate of the tile's origin.\n",
    "      tile_origin_y: Y-coordinate of the tile's origin.\n",
    "      tile_size: Size of the tile.\n",
    "\n",
    "  Returns:\n",
    "      A list of clipped line segments within the tile.\n",
    "  \"\"\"\n",
    "\n",
    "  tile_xmax = tile_origin_x + tile_size\n",
    "  tile_ymax = tile_origin_y + tile_size\n",
    "\n",
    "  # Cohen-Sutherland clipping code\n",
    "  code1 = compute_code(x1, y1, tile_origin_x, tile_origin_y, tile_xmax, tile_ymax)\n",
    "  code2 = compute_code(x2, y2, tile_origin_x, tile_origin_y, tile_xmax, tile_ymax)\n",
    "\n",
    "  accept = 0\n",
    "  reject = 8\n",
    "  while True:\n",
    "      if (code1 | code2) == 0:\n",
    "          # Both endpoints inside the clip region\n",
    "          return [(x1, y1, x2, y2)]\n",
    "      elif (code1 & code2) != 0:\n",
    "          # Both endpoints outside the clip region\n",
    "          return []\n",
    "      else:\n",
    "          # At least one endpoint is outside the clip region\n",
    "          outcode = code1 if code1 != 0 else code2\n",
    "          x, y = clip(x1, y1, x2, y2, outcode, tile_origin_x, tile_origin_y, tile_xmax, tile_ymax)\n",
    "          if outcode == code1:\n",
    "              x1, y1 = x, y\n",
    "              code1 = compute_code(x1, y1, tile_origin_x, tile_origin_y, tile_xmax, tile_ymax)\n",
    "          else:\n",
    "              x2, y2 = x, y\n",
    "              code2 = compute_code(x2, y2, tile_origin_x, tile_origin_y, tile_xmax, tile_ymax)\n",
    "\n",
    "  return [(x1, y1, x2, y2)]\n",
    "\n",
    "def compute_code(x, y, xmin, ymin, xmax, ymax):\n",
    "  code = 0\n",
    "  if y > ymax:\n",
    "      code |= 8\n",
    "  elif y < ymin:\n",
    "      code |= 4\n",
    "  if x > xmax:\n",
    "      code |= 2\n",
    "  elif x < xmin:\n",
    "      code |= 1\n",
    "  return code\n",
    "\n",
    "def clip(x1, y1, x2, y2, code, xmin, ymin, xmax, ymax):\n",
    "  if code & 8:\n",
    "      x = x1 + (x2 - x1) * (ymax - y1) / (y2 - y1)\n",
    "      y = ymax\n",
    "  elif code & 4:\n",
    "      x = x1 + (x2 - x1) * (ymin - y1) / (y2 - y1)\n",
    "      y = ymin\n",
    "  elif code & 2:\n",
    "      y = y1 + (y2 - y1) * (xmax - x1) / (x2 - x1)\n",
    "      x = xmax\n",
    "  elif code & 1:\n",
    "      y = y1 + (y2 - y1) * (xmin - x1) / (x2 - x1)\n",
    "      x = xmin\n",
    "  return x, y"
   ]
  },
  {
   "cell_type": "code",
   "execution_count": 1,
   "id": "589eba68-80fc-4808-a478-90437ee4723a",
   "metadata": {},
   "outputs": [],
   "source": [
    "def find_intersecting_tiles(x1, y1, x2, y2, tile_size, tile_origins):\n",
    "    \"\"\"Finds the tiles that intersect with a given line segment.\n",
    "\n",
    "    Args:\n",
    "        x1, y1: Start coordinates of the line segment.\n",
    "        x2, y2: End coordinates of the line segment.\n",
    "        tile_size: Size of the tiles.\n",
    "        tile_origins: List of tile origins (x, y).\n",
    "\n",
    "    Returns:\n",
    "        A list of tile indices that intersect the line segment.\n",
    "    \"\"\"\n",
    "\n",
    "    xmin, xmax = min(x1, x2), max(x1, x2)\n",
    "    ymin, ymax = min(y1, y2), max(y1, y2)\n",
    "\n",
    "    intersecting_tiles = []\n",
    "    for tile_index, (tile_origin_x, tile_origin_y) in enumerate(tile_origins):\n",
    "        if xmin < tile_origin_x + tile_size and xmax >= tile_origin_x and \\\n",
    "           ymin < tile_origin_y + tile_size and ymax >= tile_origin_y:\n",
    "            intersecting_tiles.append(tile_index)\n",
    "\n",
    "    print(intersecting_tiles)\n",
    "\n",
    "    return intersecting_tiles"
   ]
  },
  {
   "cell_type": "code",
   "execution_count": 2,
   "id": "eff8b931-e4b5-4137-a8a0-28c0dc6ba140",
   "metadata": {},
   "outputs": [],
   "source": [
    "def map_line_segments_to_tiles(line_segments, tile_size, tile_origins):\n",
    "    \"\"\"Maps line segments to tiles.\n",
    "\n",
    "    Args:\n",
    "        line_segments: List of line segments (x1, y1, x2, y2) in the original image.\n",
    "        tile_size: Size of the tiles.\n",
    "        tile_origins: List of tile origins (x, y).\n",
    "\n",
    "    Returns:\n",
    "        A dictionary mapping tile indices to lists of line segments within those tiles.\n",
    "    \"\"\"\n",
    "\n",
    "    tile_line_segments = {}\n",
    "\n",
    "    for line_index, line in enumerate(line_segments):\n",
    "        x1, y1, x2, y2 = line\n",
    "\n",
    "        # Find intersecting tiles\n",
    "        intersecting_tiles = find_intersecting_tiles(x1, y1, x2, y2, tile_size, tile_origins)\n",
    "\n",
    "        for tile_index in intersecting_tiles:\n",
    "            tile_origin_x, tile_origin_y = tile_origins[tile_index]\n",
    "            clipped_lines = clip_line_to_tile(x1, y1, x2, y2, tile_origin_x, tile_origin_y, tile_size)\n",
    "            tile_line_segments.setdefault(tile_index, []).extend(clipped_lines)\n",
    "\n",
    "    return tile_line_segments"
   ]
  },
  {
   "cell_type": "code",
   "execution_count": 3,
   "id": "865a00a8-5a3f-4de5-80d5-9b8dabc6ed09",
   "metadata": {},
   "outputs": [
    {
     "ename": "NameError",
     "evalue": "name 'line_segments' is not defined",
     "output_type": "error",
     "traceback": [
      "\u001b[1;31m---------------------------------------------------------------------------\u001b[0m",
      "\u001b[1;31mNameError\u001b[0m                                 Traceback (most recent call last)",
      "Cell \u001b[1;32mIn[3], line 1\u001b[0m\n\u001b[1;32m----> 1\u001b[0m tile_intersections \u001b[38;5;241m=\u001b[39m map_line_segments_to_tiles(line_segments, \u001b[38;5;241m512\u001b[39m, [(\u001b[38;5;241m512\u001b[39m, \u001b[38;5;241m8704\u001b[39m)])\n",
      "\u001b[1;31mNameError\u001b[0m: name 'line_segments' is not defined"
     ]
    }
   ],
   "source": [
    "tile_intersections = map_line_segments_to_tiles(line_segments, 512, [(512, 8704)])"
   ]
  },
  {
   "cell_type": "code",
   "execution_count": null,
   "id": "6d26f12a-cd20-43ee-b881-5b7c700a265a",
   "metadata": {},
   "outputs": [],
   "source": [
    "print(tile_intersections)"
   ]
  },
  {
   "cell_type": "code",
   "execution_count": null,
   "id": "ce8d232e-d9a9-4ca0-adf0-61943f2a9979",
   "metadata": {},
   "outputs": [],
   "source": [
    "list = [(1024, np.float64(9026.45), np.int32(970), np.int32(9053)), (1024, np.float64(8938.712962962964), np.int32(933), np.int32(8980)), (np.int32(972), np.int32(8836), np.int32(759), np.int32(8897))]"
   ]
  },
  {
   "cell_type": "code",
   "execution_count": 4,
   "id": "661fd916-c885-48f8-a09b-14e0e88d4560",
   "metadata": {},
   "outputs": [],
   "source": [
    "def convert_to_local_coordinates(global_line_segments, tile_origin):\n",
    "    local_line_segments = []\n",
    "\n",
    "    for x1, y1, x2, y2 in global_line_segments:\n",
    "        local_x1 = x1 - tile_origin[0]\n",
    "        local_y1 = y1 - tile_origin[1]\n",
    "        local_x2 = x2 - tile_origin[0]\n",
    "        local_y2 = y2 - tile_origin[1]\n",
    "        local_line_segments.append((local_x1, local_y1, local_x2, local_y2))\n",
    "\n",
    "    return local_line_segments"
   ]
  },
  {
   "cell_type": "code",
   "execution_count": 116,
   "id": "3c0bd4b4-28b2-4d4e-8736-f13fcba20200",
   "metadata": {},
   "outputs": [],
   "source": [
    "local_line_segments = convert_to_local_coordinates(list, [512, 8704])"
   ]
  },
  {
   "cell_type": "code",
   "execution_count": 117,
   "id": "88d1bc17-bdd1-4f98-bbe3-01ca5b1abd06",
   "metadata": {},
   "outputs": [
    {
     "name": "stdout",
     "output_type": "stream",
     "text": [
      "[(512, np.float64(322.4500000000007), np.int32(458), np.int32(349)), (512, np.float64(234.7129629629635), np.int32(421), np.int32(276)), (np.int32(460), np.int32(132), np.int32(247), np.int32(193))]\n"
     ]
    }
   ],
   "source": [
    "print(local_line_segments)"
   ]
  },
  {
   "cell_type": "code",
   "execution_count": 118,
   "id": "9fee98d9-2a74-4177-89ce-1fadc8cf6b61",
   "metadata": {},
   "outputs": [],
   "source": [
    "def visualize_tile_with_lines(tile_size, line_segments):\n",
    "    \"\"\"Visualizes a tile with overlaid line segments using Matplotlib.\n",
    "\n",
    "    Args:\n",
    "        tile_size: Size of the tile.\n",
    "        line_segments: List of line segments within the tile (x1, y1, x2, y2).\n",
    "    \"\"\"\n",
    "\n",
    "    tile_image = np.zeros((tile_size, tile_size), dtype=np.uint8)\n",
    "    for x1, y1, x2, y2 in line_segments:\n",
    "        cv2.line(tile_image, (int(x1), int(y1)), (int(x2), int(y2)), 255, 1)\n",
    "\n",
    "    fig, ax = plt.subplots()\n",
    "    extent = (0, tile_size, 0, tile_size)\n",
    "    ax.imshow(tile_image, cmap='gray', origin='upper', extent=extent)\n",
    "\n",
    "    ax.set_xlabel('X')\n",
    "    ax.set_ylabel('Y')\n",
    "    ax.set_title('Tile with Lines')\n",
    "    plt.show()"
   ]
  },
  {
   "cell_type": "code",
   "execution_count": 119,
   "id": "22aadb98-9ff0-41c6-92d5-8859e0064bd5",
   "metadata": {},
   "outputs": [
    {
     "data": {
      "image/png": "[encoded data removed]",
      "text/plain": [
       "<Figure size 640x480 with 1 Axes>"
      ]
     },
     "metadata": {},
     "output_type": "display_data"
    }
   ],
   "source": [
    "visualize_tile_with_lines(512, local_line_segments)"
   ]
  },
  {
   "cell_type": "code",
   "execution_count": 120,
   "id": "b7d01ca6-2a8a-432d-8c7a-581adb5f50b9",
   "metadata": {},
   "outputs": [],
   "source": [
    "def extract_line_endpoints(tiff_file):\n",
    "    with rasterio.open(tiff_file, 'r') as src:\n",
    "        img = src.read(1)\n",
    "\n",
    "    img_array = np.array(img, dtype=np.uint8)\n",
    "    y, x = np.where(img_array > 0)\n",
    "\n",
    "    endpoints = []\n",
    "    for i in range(len(x)):\n",
    "        if x[i] == 0 or x[i] == img_array.shape[1] - 1 or y[i] == 0 or y[i] == img_array.shape[0] - 1:\n",
    "            endpoints.append((x[i], y[i]))  # Border points\n",
    "\n",
    "    return endpoints"
   ]
  },
  {
   "cell_type": "code",
   "execution_count": 121,
   "id": "66a692f6-5c11-498f-949e-5d7d2477e90b",
   "metadata": {},
   "outputs": [],
   "source": [
    "lines = extract_line_endpoints('dilated.tif')"
   ]
  },
  {
   "cell_type": "code",
   "execution_count": 122,
   "id": "279d849a-0af3-4a0a-bab1-9200e0bd9f17",
   "metadata": {},
   "outputs": [
    {
     "data": {
      "text/plain": [
       "[(np.int64(9999), np.int64(5396)),\n",
       " (np.int64(9999), np.int64(5397)),\n",
       " (np.int64(9999), np.int64(5398)),\n",
       " (np.int64(9999), np.int64(5399)),\n",
       " (np.int64(9999), np.int64(5400)),\n",
       " (np.int64(9999), np.int64(5546)),\n",
       " (np.int64(9999), np.int64(5547)),\n",
       " (np.int64(9999), np.int64(5548)),\n",
       " (np.int64(9999), np.int64(5549)),\n",
       " (np.int64(9999), np.int64(5550)),\n",
       " (np.int64(9999), np.int64(5675)),\n",
       " (np.int64(9999), np.int64(5676)),\n",
       " (np.int64(9999), np.int64(5677)),\n",
       " (np.int64(9999), np.int64(5678)),\n",
       " (np.int64(9999), np.int64(5679)),\n",
       " (np.int64(9999), np.int64(6050)),\n",
       " (np.int64(9999), np.int64(6051)),\n",
       " (np.int64(9999), np.int64(6052)),\n",
       " (np.int64(9999), np.int64(6053)),\n",
       " (np.int64(9999), np.int64(6054))]"
      ]
     },
     "execution_count": 122,
     "metadata": {},
     "output_type": "execute_result"
    }
   ],
   "source": [
    "lines"
   ]
  },
  {
   "cell_type": "code",
   "execution_count": null,
   "id": "daeb8daf-79ca-407f-bf85-0fad5d0b13f1",
   "metadata": {},
   "outputs": [],
   "source": []
  }
 ],
 "metadata": {
  "kernelspec": {
   "display_name": "Python 3 (ipykernel)",
   "language": "python",
   "name": "python3"
  },
  "language_info": {
   "codemirror_mode": {
    "name": "ipython",
    "version": 3
   },
   "file_extension": ".py",
   "mimetype": "text/x-python",
   "name": "python",
   "nbconvert_exporter": "python",
   "pygments_lexer": "ipython3",
   "version": "3.11.7"
  }
 },
 "nbformat": 4,
 "nbformat_minor": 5
}
