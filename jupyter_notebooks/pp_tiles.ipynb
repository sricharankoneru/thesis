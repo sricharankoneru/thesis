{
 "cells": [
  {
   "cell_type": "markdown",
   "id": "561b0e75-52e7-434b-8c52-61872a6dbbcb",
   "metadata": {},
   "source": [
    "## Evaluation Metric"
   ]
  },
  {
   "cell_type": "code",
   "execution_count": 1,
   "id": "3a03eb38-60ac-41aa-9707-fe4b8c5d3974",
   "metadata": {},
   "outputs": [],
   "source": [
    "import numpy as np\n",
    "from scipy.optimize import linear_sum_assignment\n",
    "import math"
   ]
  },
  {
   "cell_type": "code",
   "execution_count": 2,
   "id": "63745183-88c2-4d45-b46c-f9b01e1f4582",
   "metadata": {},
   "outputs": [],
   "source": [
    "class Line(object):\n",
    "    def __init__(self, coordinates=[0, 0, 1, 1]):\n",
    "        \"\"\"\n",
    "        coordinates: [y0, x0, y1, x1]\n",
    "\n",
    "        \"\"\"\n",
    "        coordinates[0], coordinates[1] = coordinates[1], coordinates[0]\n",
    "        coordinates[2], coordinates[3] = coordinates[3], coordinates[2]\n",
    "        assert isinstance(coordinates, list)\n",
    "        assert len(coordinates) == 4\n",
    "        assert coordinates[0]!=coordinates[2] or coordinates[1]!=coordinates[3]\n",
    "        self.__coordinates = coordinates\n",
    "\n",
    "    @property\n",
    "    def coord(self):\n",
    "        return self.__coordinates\n",
    "\n",
    "    @property\n",
    "    def length(self):\n",
    "        start = np.array(self.coord[:2])\n",
    "        end = np.array(self.coord[2::])\n",
    "        return np.sqrt(((start - end) ** 2).sum())\n",
    "\n",
    "    def angle(self):\n",
    "        y0, x0, y1, x1 = self.coord\n",
    "        if x0 == x1:\n",
    "            return -np.pi / 2\n",
    "        return np.arctan((y0-y1) / (x0-x1))\n",
    "\n",
    "    def rescale(self, rh, rw):\n",
    "        coor = np.array(self.__coordinates)\n",
    "        r = np.array([rh, rw, rh, rw])\n",
    "        self.__coordinates = np.round(coor * r).astype(np.int).tolist()\n",
    "\n",
    "    def __repr__(self):\n",
    "        return str(self.coord)"
   ]
  },
  {
   "cell_type": "code",
   "execution_count": 3,
   "id": "ceae3466-de1e-408d-bb5f-0d4da61740da",
   "metadata": {},
   "outputs": [],
   "source": [
    "def sa_metric(angle_p, angle_g):\n",
    "    d_angle = np.abs(angle_p - angle_g)\n",
    "    d_angle = min(d_angle, np.pi - d_angle)\n",
    "    d_angle = d_angle * 2 / np.pi\n",
    "    return max(0, (1 - d_angle)) ** 2\n",
    "\n",
    "def se_metric(coord_p, coord_g, size=(512, 512)):\n",
    "    c_p = [(coord_p[0] + coord_p[2]) / 2, (coord_p[1] + coord_p[3]) / 2]\n",
    "    c_g = [(coord_g[0] + coord_g[2]) / 2, (coord_g[1] + coord_g[3]) / 2]\n",
    "    d_coord = np.abs(c_p[0] - c_g[0])**2 + np.abs(c_p[1] - c_g[1])**2\n",
    "    d_coord = np.sqrt(d_coord) / max(size[0], size[1])\n",
    "    return max(0, (1 - d_coord)) ** 2\n",
    "    \n",
    "def EA_metric(l_pred, l_gt, size=(512, 512)):\n",
    "    se = se_metric(l_pred.coord, l_gt.coord, size=size)\n",
    "    sa = sa_metric(l_pred.angle(), l_gt.angle())\n",
    "    return sa * se"
   ]
  },
  {
   "cell_type": "code",
   "execution_count": 4,
   "id": "7e765ece-234d-4e1a-8ecb-73650011e0a6",
   "metadata": {},
   "outputs": [],
   "source": [
    "def length_difference(p_coord, g_coord):\n",
    "    p_y0, p_x0, p_y1, p_x1 = p_coord\n",
    "    g_y0, g_x0, g_y1, g_x1 = g_coord\n",
    "\n",
    "    norm_gt = np.sqrt(g_y0**2 + g_x0**2 + g_y1**2 + g_x1**2)\n",
    "    norm_pd = np.sqrt(p_y0**2 + p_x0**2 + p_y1**2 + p_x1**2)\n",
    "\n",
    "    norm_factor = np.sqrt(norm_gt**2 + norm_pd**2)\n",
    "\n",
    "    dist1 = math.sqrt((g_x1 - p_x1) ** 2 + (g_y1 - p_y1) ** 2)\n",
    "    dist2 = math.sqrt((g_x0 - p_x0) ** 2 + (g_y0 - p_y0) ** 2)\n",
    "    diff1 = dist1 + dist2\n",
    "    norm_diff1 = diff1 / norm_factor\n",
    "\n",
    "    dist3 = math.sqrt((g_x1 - p_x0) ** 2 + (g_y1 - p_y0) ** 2)\n",
    "    dist4 = math.sqrt((g_x0 - p_x1) ** 2 + (g_y0 - p_y1) ** 2)\n",
    "    diff2 = dist3 + dist4\n",
    "    norm_diff2 = diff2 / norm_factor\n",
    "\n",
    "    len_diff = min(norm_diff1, norm_diff2)\n",
    "\n",
    "    return len_diff"
   ]
  },
  {
   "cell_type": "code",
   "execution_count": 5,
   "id": "91a06174-f5b3-41b7-ac9a-c8957675d6a3",
   "metadata": {},
   "outputs": [],
   "source": [
    "def build_graph(p_lines, g_lines, threshold):\n",
    "    prediction_len = len(p_lines)\n",
    "    gt_len = len(g_lines)\n",
    "    G = np.zeros((prediction_len, gt_len))\n",
    "    for i in range(prediction_len):\n",
    "        for j in range(gt_len):\n",
    "            if EA_metric(p_lines[i], g_lines[j]) >= threshold:\n",
    "                G[i][j] = 1\n",
    "    return G"
   ]
  },
  {
   "cell_type": "code",
   "execution_count": 6,
   "id": "ec77b0f6-c865-4028-b105-00fff333fee2",
   "metadata": {},
   "outputs": [],
   "source": [
    "def calculate_tp_fp_fn(b_points, gt_coords, thresh=0.90):\n",
    "    p_lines = []\n",
    "    g_lines = []\n",
    "    for points in b_points:\n",
    "        if len(points) == 0:\n",
    "            continue \n",
    "        if points[0] == points[2] and points[1] == points[3]:\n",
    "            continue \n",
    "        else:\n",
    "            p_lines.append(Line(list(points)))\n",
    "    \n",
    "    for points in gt_coords:\n",
    "        if len(points) == 0:\n",
    "            continue\n",
    "        if points[0] == points[2] and points[1] == points[3]:\n",
    "            continue \n",
    "        else:\n",
    "            g_lines.append(Line(list(points)))\n",
    "\n",
    "    avg_length_difference = 0\n",
    "\n",
    "    G = build_graph(p_lines, g_lines, thresh)\n",
    "\n",
    "    row_ind, col_ind = linear_sum_assignment(-G)\n",
    "\n",
    "    pair_nums = G[row_ind, col_ind].sum()\n",
    "\n",
    "    tp = pair_nums\n",
    "    fp = len(p_lines) - pair_nums\n",
    "    fn = len(g_lines) - pair_nums\n",
    "\n",
    "    length_differences = []\n",
    "    for i, j in zip(row_ind, col_ind):  # Iterate over the matched indices\n",
    "        if G[i, j] == 1:  # Ensure that this pair was actually matched\n",
    "            p_coord = p_lines[i].coord\n",
    "            g_coord = g_lines[j].coord\n",
    "            len_diff = length_difference(p_coord, g_coord)\n",
    "            length_differences.append(len_diff)\n",
    "\n",
    "    if len(length_differences) > 0:\n",
    "        avg_length_difference = np.mean(length_differences)\n",
    "\n",
    "    return tp, fp, fn, avg_length_difference"
   ]
  },
  {
   "cell_type": "markdown",
   "id": "7deedb3d-b956-47cd-9857-dc5adf1bc65a",
   "metadata": {},
   "source": [
    "## Evaluation"
   ]
  },
  {
   "cell_type": "code",
   "execution_count": 26,
   "id": "3375efd2-df76-4116-a86f-403fe9cb8890",
   "metadata": {},
   "outputs": [],
   "source": [
    "import rasterio\n",
    "import cv2\n",
    "import numpy as np\n",
    "import os\n",
    "import matplotlib.pyplot as plt\n",
    "from skimage.morphology import skeletonize\n",
    "import glob\n",
    "from rasterio.merge import merge\n",
    "from skimage import measure"
   ]
  },
  {
   "cell_type": "code",
   "execution_count": 8,
   "id": "573fe30d-6185-457f-b2d1-705c17c8c24b",
   "metadata": {},
   "outputs": [
    {
     "name": "stdout",
     "output_type": "stream",
     "text": [
      "D:\\Masters\\OVGU\\VII_Semester\\Thesis\\jupyter_notebooks\n"
     ]
    }
   ],
   "source": [
    "curr_path = os.getcwd()\n",
    "\n",
    "print(curr_path)"
   ]
  },
  {
   "cell_type": "code",
   "execution_count": 20,
   "id": "098656df-dc5f-4206-b725-cc99b05a7347",
   "metadata": {},
   "outputs": [
    {
     "name": "stdout",
     "output_type": "stream",
     "text": [
      "D:\\Masters\\OVGU\\VII_Semester\\Thesis\\jupyter_notebooks\\predictions\\xception-71-baseline\n"
     ]
    }
   ],
   "source": [
    "tile_dir = os.path.join(curr_path, 'predictions\\\\xception-71-baseline')\n",
    "\n",
    "print(tile_dir)"
   ]
  },
  {
   "cell_type": "code",
   "execution_count": 21,
   "id": "068578f5-bdb1-4a1a-9375-d25213f83b8a",
   "metadata": {},
   "outputs": [],
   "source": [
    "file_names = os.listdir(tile_dir)"
   ]
  },
  {
   "cell_type": "code",
   "execution_count": 22,
   "id": "86c95b44-8bf0-4547-b712-62fe722716a9",
   "metadata": {},
   "outputs": [
    {
     "name": "stdout",
     "output_type": "stream",
     "text": [
      "D:\\Masters\\OVGU\\VII_Semester\\Thesis\\jupyter_notebooks\\Data\\coordinates\n"
     ]
    }
   ],
   "source": [
    "coord_dir = os.path.join(curr_path, 'Data\\coordinates')\n",
    "print(coord_dir)"
   ]
  },
  {
   "cell_type": "code",
   "execution_count": 23,
   "id": "8c00497e-bbac-4b75-8b01-71efd65f15ac",
   "metadata": {},
   "outputs": [],
   "source": [
    "tp_total= 0\n",
    "fp_total= 0\n",
    "fn_total = 0\n",
    "len_diffs = []"
   ]
  },
  {
   "cell_type": "code",
   "execution_count": 27,
   "id": "e49d76e1-25ca-48a0-b84a-751c903ff868",
   "metadata": {},
   "outputs": [],
   "source": [
    "for tif_file in file_names:\n",
    "    file_path = os.path.join(tile_dir, tif_file)\n",
    "\n",
    "    with rasterio.open(file_path) as src:\n",
    "        image = src.read(1)\n",
    "        meta = src.meta\n",
    "        transform = src.transform\n",
    "\n",
    "    min_val = np.min(image)\n",
    "    max_val = np.max(image)\n",
    "    \n",
    "    if max_val == min_val:\n",
    "        # Handle the case where all values are the same (e.g., a constant image)\n",
    "        tile_normalized = np.zeros_like(image, dtype=np.float32)\n",
    "    else:\n",
    "        # Normalize to range [0, 1]\n",
    "        tile_normalized = (image - min_val) / (max_val - min_val)\n",
    "\n",
    "    # Convert normalized image to uint8 (scale to [0, 255])\n",
    "    tile_uint8 = (tile_normalized * 255).astype(np.uint8)\n",
    "    \n",
    "    tile_lines = cv2.HoughLinesP(tile_uint8, 1, np.pi / 180, threshold=50, minLineLength=10, maxLineGap=15)\n",
    "\n",
    "    blank_image = np.zeros((512, 512), dtype=np.uint8)\n",
    "\n",
    "    if tile_lines is not None:\n",
    "        for line in tile_lines:\n",
    "            x1, y1, x2, y2 = line[0]\n",
    "            cv2.line(blank_image, (x1, y1), (x2, y2), 255, 2)  # White lines\n",
    "\n",
    "    tile_edges = cv2.Canny(blank_image, threshold1=100, threshold2=200)\n",
    "    \n",
    "    tile_contours, _ = cv2.findContours(tile_edges, cv2.RETR_EXTERNAL, cv2.CHAIN_APPROX_SIMPLE)\n",
    "\n",
    "    # Draw the contours onto a new image\n",
    "    tile_lines = np.zeros_like(tile_uint8)\n",
    "    contour_image = cv2.drawContours(tile_lines, tile_contours, -1, (255, 255, 255), thickness=5)\n",
    "\n",
    "    # Define a kernel\n",
    "    kernel = np.ones((15,15), np.uint8)\n",
    "    \n",
    "    # Apply dilation\n",
    "    dilated_edges = cv2.dilate(contour_image, kernel, iterations=1)\n",
    "    \n",
    "    binary_image = dilated_edges > 0\n",
    "    \n",
    "    skeleton = skeletonize(binary_image)\n",
    "\n",
    "    labeled_skeleton, num_labels = measure.label(skeleton, return_num=True, connectivity=2)\n",
    "\n",
    "    line_coordinates = []\n",
    "    \n",
    "    for label in range(1, num_labels + 1):\n",
    "        component_mask = (labeled_skeleton == label)\n",
    "        endpoints = []\n",
    "        \n",
    "        # Loop through skeleton and find endpoints\n",
    "        for y in range(1, component_mask.shape[0] - 1):\n",
    "            for x in range(1, component_mask.shape[1] - 1):\n",
    "                if component_mask[y, x]:\n",
    "                    # Check the 8-neighborhood\n",
    "                    neighbors = component_mask[y-1:y+2, x-1:x+2]\n",
    "                    if np.sum(neighbors) == 2:  # Exactly one neighbor means it's an endpoint\n",
    "                        endpoints.append((x, y))\n",
    "\n",
    "        if len(endpoints) == 2:\n",
    "            start = endpoints[0]\n",
    "            end = endpoints[1]\n",
    "            line_coordinates.append([start[0], start[1], end[0], end[1]])\n",
    "\n",
    "    # Get the base name without extension and split by '_'\n",
    "    index, coord1, coord2 = os.path.splitext(os.path.basename(tif_file))[0].split('_')[1:4]\n",
    "    \n",
    "    # Create the output filename (with matching indices)\n",
    "    file_name = f\"Coo_{index}_{coord1}_{coord2}_coo.txt\"\n",
    "    \n",
    "    # Join the path\n",
    "    coord_path = os.path.join(coord_dir, file_name)\n",
    "    \n",
    "    ground_truth_coord = []\n",
    "    \n",
    "    with open(coord_path, 'r') as file:\n",
    "        for line in file:\n",
    "            line = line.strip()    \n",
    "            coordinates = [float(x) for x in line.split(',')]    \n",
    "            ground_truth_coord.append(coordinates)\n",
    "\n",
    "    if not line_coordinates and not ground_truth_coord:\n",
    "        pass  # No detected lines and no ground truth lines\n",
    "    elif not line_coordinates and ground_truth_coord:\n",
    "        fn_total += len(ground_truth_coord)  # All ground truth lines are false negatives\n",
    "    elif line_coordinates and not ground_truth_coord:\n",
    "        fp_total += len(line_coordinates)  # All detected lines are false positives\n",
    "    else:\n",
    "        tp, fp, fn, avg_len_diff = calculate_tp_fp_fn(line_coordinates, ground_truth_coord, 0.70)\n",
    "        \n",
    "        tp_total += tp\n",
    "        fp_total += fp\n",
    "        fn_total += fn\n",
    "        len_diffs.append(avg_len_diff)\n",
    "\n",
    "    blank_image_2 = np.zeros((512, 512), dtype=np.uint8)\n",
    "\n",
    "    if line_coordinates is not None:\n",
    "        for lines in line_coordinates:\n",
    "            x1, y1, x2, y2 = lines\n",
    "            cv2.line(blank_image_2, (x1, y1), (x2, y2), 255, 2)  # White lines                \n",
    " \n",
    "    meta.update(dtype=rasterio.uint8, count=1)\n",
    "\n",
    "    output_tif_path = os.path.join(curr_path, 'Data\\pht_output_tiles_11', tif_file)\n",
    "    \n",
    "    with rasterio.open(output_tif_path, 'w', **meta) as dst:\n",
    "        dst.write(blank_image_2, 1)"
   ]
  },
  {
   "cell_type": "code",
   "execution_count": 28,
   "id": "f8e6c616-47ab-49c5-a3c6-b99efa037413",
   "metadata": {},
   "outputs": [
    {
     "name": "stderr",
     "output_type": "stream",
     "text": [
      "C:\\Users\\koner\\AppData\\Local\\Temp\\ipykernel_45092\\1914830568.py:5: DeprecationWarning: The truth value of an empty array is ambiguous. Returning False, but in future this will result in an error. Use `array.size > 0` to check that an array is not empty.\n",
      "  valid_len_diffs = [x for x in len_diffs if x is not None and x != []]\n"
     ]
    }
   ],
   "source": [
    "precision = tp_total / (tp_total + fp_total) if tp_total + fp_total != 0 else 0\n",
    "recall = tp_total / (tp_total + fn_total) if tp_total + fn_total != 0 else 0\n",
    "f1_score = 2 * precision * recall / (precision + recall) if precision + recall != 0 else 0\n",
    "\n",
    "valid_len_diffs = [x for x in len_diffs if x is not None and x != []]\n",
    "\n",
    "if valid_len_diffs: \n",
    "    overall_average = sum(valid_len_diffs) / len(valid_len_diffs)\n",
    "else:\n",
    "    overall_average = 0"
   ]
  },
  {
   "cell_type": "code",
   "execution_count": 29,
   "id": "96464bc4-51d7-44fb-b3f8-6c784891e553",
   "metadata": {},
   "outputs": [
    {
     "name": "stdout",
     "output_type": "stream",
     "text": [
      "Precision 0.4346696362286563\n",
      "Recall 0.2690098782448886\n",
      "F1_score 0.3323400028380871\n",
      "Length_Difference 0.0\n"
     ]
    }
   ],
   "source": [
    "print('Precision', precision)\n",
    "print('Recall', recall)\n",
    "print('F1_score', f1_score)\n",
    "print('Length_Difference', overall_average)"
   ]
  },
  {
   "cell_type": "code",
   "execution_count": null,
   "id": "db3e459a-2808-45b5-8df8-3bccb425b20a",
   "metadata": {},
   "outputs": [],
   "source": [
    "len_diffs"
   ]
  },
  {
   "cell_type": "code",
   "execution_count": null,
   "id": "4242ae0b-fa89-4ccc-b1be-2bfd639e6c2f",
   "metadata": {},
   "outputs": [],
   "source": [
    "pht_tiles_dir = os.path.join(curr_path, 'Data\\pht_output_tiles_11')\n",
    "\n",
    "print(pht_tiles_dir)"
   ]
  },
  {
   "cell_type": "code",
   "execution_count": 101,
   "id": "e4870cd8-21d3-4ddb-82cd-5713f314b0f0",
   "metadata": {},
   "outputs": [],
   "source": [
    "# Search pattern to find all .tif files\n",
    "search_criteria = \"*.tif\"\n",
    "q = os.path.join(pht_tiles_dir, search_criteria)\n",
    "tile_files = glob.glob(q)"
   ]
  },
  {
   "cell_type": "code",
   "execution_count": 102,
   "id": "5ee8d4e4-262e-4aeb-b8c3-2bf3bf67d27e",
   "metadata": {},
   "outputs": [],
   "source": [
    "# Open all the files and append to a list\n",
    "src_files_to_mosaic = []\n",
    "for fp in tile_files:\n",
    "    src = rasterio.open(fp)\n",
    "    src_files_to_mosaic.append(src)"
   ]
  },
  {
   "cell_type": "code",
   "execution_count": 103,
   "id": "ec5752bb-9317-44ee-bc28-423c230a8450",
   "metadata": {},
   "outputs": [],
   "source": [
    "# Merge the individual tiles\n",
    "mosaic, out_trans = merge(src_files_to_mosaic)"
   ]
  },
  {
   "cell_type": "code",
   "execution_count": 104,
   "id": "80a085c6-692b-4fd0-a44d-464f28358152",
   "metadata": {},
   "outputs": [],
   "source": [
    "# Update metadata\n",
    "out_meta = src.meta.copy()"
   ]
  },
  {
   "cell_type": "code",
   "execution_count": 105,
   "id": "13b4f466-c96d-4452-aa1b-b66e83554d31",
   "metadata": {},
   "outputs": [],
   "source": [
    "# Update to new dimensions, transform, and CRS\n",
    "out_meta.update({\n",
    "    \"driver\": \"GTiff\",\n",
    "    \"height\": mosaic.shape[1],\n",
    "    \"width\": mosaic.shape[2],\n",
    "    \"transform\": out_trans,\n",
    "    \"crs\": src.crs\n",
    "})"
   ]
  },
  {
   "cell_type": "code",
   "execution_count": 106,
   "id": "53b25c2b-5a6a-422e-8919-cbd52671fc74",
   "metadata": {},
   "outputs": [],
   "source": [
    "# Write the merged file to disk\n",
    "output_fp = os.path.join(curr_path, \"Data\\Test_Data_Pred\\\\test_merged\\\\skel_test_merged.tif\")\n",
    "with rasterio.open(output_fp, \"w\", **out_meta) as dest:\n",
    "    dest.write(mosaic)"
   ]
  },
  {
   "cell_type": "code",
   "execution_count": null,
   "id": "229f9a2c-4f06-4794-baba-6a1a5ccfd1d6",
   "metadata": {},
   "outputs": [],
   "source": [
    "merged_path = os.path.join(curr_path, 'Data\\Merged\\pht_merged_2.tif')"
   ]
  },
  {
   "cell_type": "code",
   "execution_count": null,
   "id": "71078268-d830-4e32-95e2-fd651224b713",
   "metadata": {},
   "outputs": [],
   "source": [
    "with rasterio.open(merged_path) as src:\n",
    "        image = src.read(1)\n",
    "        meta = src.meta\n",
    "        transform = src.transform"
   ]
  },
  {
   "cell_type": "code",
   "execution_count": null,
   "id": "735d16c3-e353-4fc4-a14e-1ad1ea617581",
   "metadata": {},
   "outputs": [],
   "source": [
    "min_val = np.min(image)\n",
    "max_val = np.max(image)\n",
    "\n",
    "# Normalize to range [0, 1]\n",
    "image_normalized = (image - min_val) / (max_val - min_val)\n",
    "\n",
    "# Scale to range [0, 255] and convert to uint8\n",
    "image_uint8 = (image_normalized * 255).astype(np.uint8)"
   ]
  },
  {
   "cell_type": "code",
   "execution_count": null,
   "id": "5f2c4332-7ef3-4f91-8b7a-7c45c306556c",
   "metadata": {},
   "outputs": [],
   "source": [
    "# Define a kernel\n",
    "kernel = np.ones((15,15), np.uint8)\n",
    "\n",
    "# Apply dilation\n",
    "dilated_edges = cv2.dilate(image_uint8, kernel, iterations=1)"
   ]
  },
  {
   "cell_type": "code",
   "execution_count": null,
   "id": "02abbc7e-a5a0-4798-85f1-1c7126986940",
   "metadata": {},
   "outputs": [],
   "source": [
    "plt.imshow(dilated_edges, cmap='gray')\n",
    "plt.title('Dilated Edges')\n",
    "plt.axis('off')\n",
    "\n",
    "plt.show()"
   ]
  },
  {
   "cell_type": "code",
   "execution_count": null,
   "id": "2722c019-33a2-4e88-8422-657a7d50e413",
   "metadata": {},
   "outputs": [],
   "source": [
    "pred_lines =  cv2.HoughLinesP(image_uint8, 1, np.pi/180, threshold=50, minLineLength=10, maxLineGap=50)"
   ]
  },
  {
   "cell_type": "code",
   "execution_count": null,
   "id": "bd06574d-b300-4922-8522-2925e6e84acc",
   "metadata": {},
   "outputs": [],
   "source": [
    "len(pred_lines)"
   ]
  },
  {
   "cell_type": "code",
   "execution_count": null,
   "id": "a88d2871-9a3c-4c19-bc8e-b3921778f296",
   "metadata": {
    "scrolled": true
   },
   "outputs": [],
   "source": [
    "# Set the dimensions of the blank image\n",
    "height, width = 10000, 10000  # Adjust these dimensions as needed\n",
    "\n",
    "# Create a blank binary image (all black)\n",
    "blank_image = np.zeros((height, width), dtype=np.uint8)\n",
    "\n",
    "# Draw the lines on the blank image\n",
    "for line in pred_lines:\n",
    "    x1, y1, x2, y2 = line[0]\n",
    "    cv2.line(blank_image, (x1, y1), (x2, y2), color=255, thickness=20)\n",
    "\n",
    "# Use Matplotlib to plot the binary image\n",
    "plt.imshow(blank_image, cmap='gray')\n",
    "plt.title('Detected Lines')\n",
    "plt.axis('off')  # Hide axes\n",
    "plt.show()"
   ]
  },
  {
   "cell_type": "code",
   "execution_count": null,
   "id": "e571b41c-c184-4d2f-a3ec-3d454eb681f1",
   "metadata": {},
   "outputs": [],
   "source": [
    "pht_output_fp = os.path.join(curr_path, \"Data/final_output/output_2.tif\")\n",
    "with rasterio.open(pht_output_fp, \"w\", **meta) as dest:\n",
    "    dest.write(dilated_edges, 1)"
   ]
  },
  {
   "cell_type": "code",
   "execution_count": 26,
   "id": "df03fb4d-5803-4924-b3a4-db4bdb3554cb",
   "metadata": {},
   "outputs": [],
   "source": [
    "t1 = [383, 322, 347, 366]\n",
    "t2 = [512.0, 143.49053356282275, 208.30638297872338, 512.0]\n",
    "\n",
    "line1 = Line(t1)\n",
    "line2 = Line(t2)"
   ]
  },
  {
   "cell_type": "code",
   "execution_count": 10,
   "id": "d1956972-a768-4296-90b8-f829f4efe143",
   "metadata": {},
   "outputs": [
    {
     "name": "stdout",
     "output_type": "stream",
     "text": [
      "[322, 383, 366, 347]\n",
      "[143.49053356282275, 512.0, 512.0, 208.30638297872338]\n"
     ]
    }
   ],
   "source": [
    "print(line1.coord)\n",
    "print(line2.coord)"
   ]
  },
  {
   "cell_type": "code",
   "execution_count": 11,
   "id": "e26f478f-87d7-42d1-ad6a-bc53abf4a31e",
   "metadata": {},
   "outputs": [],
   "source": [
    "len_diff = length_difference(line1.coord, line2.coord)"
   ]
  },
  {
   "cell_type": "code",
   "execution_count": 12,
   "id": "5b154ca3-23d1-430c-b92d-572d0851a848",
   "metadata": {},
   "outputs": [
    {
     "name": "stdout",
     "output_type": "stream",
     "text": [
      "0.4032802114969603\n"
     ]
    }
   ],
   "source": [
    "print(len_diff)"
   ]
  },
  {
   "cell_type": "markdown",
   "id": "da1c89b7-5e93-465e-ba2d-631fc1686393",
   "metadata": {},
   "source": [
    "## Trail"
   ]
  },
  {
   "cell_type": "code",
   "execution_count": 2,
   "id": "5046edd5-e085-41b4-9403-a228b34e512b",
   "metadata": {},
   "outputs": [],
   "source": [
    "import rasterio\n",
    "import cv2\n",
    "import numpy as np\n",
    "import os\n",
    "import matplotlib.pyplot as plt\n",
    "from skimage.morphology import skeletonize\n",
    "from skimage import measure\n",
    "import torch"
   ]
  },
  {
   "cell_type": "code",
   "execution_count": 3,
   "id": "61fed108-79da-43fe-8cee-896436773fef",
   "metadata": {},
   "outputs": [
    {
     "name": "stdout",
     "output_type": "stream",
     "text": [
      "D:\\Masters\\OVGU\\VII_Semester\\Thesis\\jupyter_notebooks\n"
     ]
    }
   ],
   "source": [
    "curr_path = os.getcwd()\n",
    "\n",
    "print(curr_path)"
   ]
  },
  {
   "cell_type": "code",
   "execution_count": 4,
   "id": "f62f7324-7d7b-4f9a-8bad-75f6ba3d08fa",
   "metadata": {},
   "outputs": [
    {
     "name": "stdout",
     "output_type": "stream",
     "text": [
      "D:\\Masters\\OVGU\\VII_Semester\\Thesis\\jupyter_notebooks\\Data\\Test_Data_Pred\\test_pred_4\\input_11_4608_4608.tif\n"
     ]
    }
   ],
   "source": [
    "tile_path = os.path.join(curr_path, 'Data\\Test_Data_Pred\\\\test_pred_4\\input_11_4608_4608.tif')\n",
    "\n",
    "print(tile_path)"
   ]
  },
  {
   "cell_type": "code",
   "execution_count": 5,
   "id": "736ff738-7fe6-43a5-a14f-e724072d233b",
   "metadata": {},
   "outputs": [],
   "source": [
    "with rasterio.open(tile_path) as src:\n",
    "    input_image = src.read(1)  # Read the first band (assuming grayscale)\n",
    "    meta = src.meta  # Get the metadata for the image\n",
    "    transform = src.transform  # Get the affine transform"
   ]
  },
  {
   "cell_type": "code",
   "execution_count": 6,
   "id": "82130bfd-045e-4256-8f83-a41dd46a7987",
   "metadata": {},
   "outputs": [],
   "source": [
    "min_val = np.min(input_image)\n",
    "max_val = np.max(input_image)\n",
    "\n",
    "# Normalize to range [0, 1]\n",
    "tile_normalized = (input_image - min_val) / (max_val - min_val)\n",
    "\n",
    "# Scale to range [0, 255] and convert to uint8\n",
    "tile_uint8 = (input_image * 255).astype(np.uint8)"
   ]
  },
  {
   "cell_type": "code",
   "execution_count": 1,
   "id": "79c51a5f-e862-46cd-9092-c40cedf9b5b8",
   "metadata": {},
   "outputs": [
    {
     "ename": "NameError",
     "evalue": "name 'plt' is not defined",
     "output_type": "error",
     "traceback": [
      "\u001b[1;31m---------------------------------------------------------------------------\u001b[0m",
      "\u001b[1;31mNameError\u001b[0m                                 Traceback (most recent call last)",
      "Cell \u001b[1;32mIn[1], line 1\u001b[0m\n\u001b[1;32m----> 1\u001b[0m plt\u001b[38;5;241m.\u001b[39mimshow(input_image)\n",
      "\u001b[1;31mNameError\u001b[0m: name 'plt' is not defined"
     ]
    }
   ],
   "source": [
    "plt.imshow(input_image)"
   ]
  },
  {
   "cell_type": "code",
   "execution_count": null,
   "id": "25563981-a544-4c33-a19b-e4e9eb6d204c",
   "metadata": {},
   "outputs": [],
   "source": [
    "tile_lines = cv2.HoughLinesP(tile_uint8, 1, np.pi / 180, threshold=50, minLineLength=10, maxLineGap=50) #max_Line_Gap=15-16 pixels"
   ]
  },
  {
   "cell_type": "code",
   "execution_count": null,
   "id": "161bd483-9efb-4859-94c4-61cf4dc3b5e4",
   "metadata": {},
   "outputs": [],
   "source": [
    "print(len(tile_lines))"
   ]
  },
  {
   "cell_type": "code",
   "execution_count": null,
   "id": "77ed903d-e9c3-417f-bdfa-e00bfdf49eec",
   "metadata": {},
   "outputs": [],
   "source": [
    "# Create a blank image (same dimensions as tile_uint8) to draw lines on\n",
    "blank_image = np.zeros((512, 512), dtype=np.uint8)"
   ]
  },
  {
   "cell_type": "code",
   "execution_count": null,
   "id": "241ef839-2f21-49d9-82e4-e0f6c133a8ff",
   "metadata": {},
   "outputs": [],
   "source": [
    "\n",
    "if tile_lines is not None:\n",
    "    for line in tile_lines:\n",
    "        x1, y1, x2, y2 = line[0]\n",
    "        cv2.line(blank_image, (x1, y1), (x2, y2), 255, 2)  # White lines"
   ]
  },
  {
   "cell_type": "code",
   "execution_count": null,
   "id": "dc9cd50a-8484-4a6a-8a32-c704c7e15256",
   "metadata": {},
   "outputs": [],
   "source": [
    "# Display the original binary image and the detected lines\n",
    "plt.figure(figsize=(10, 5))\n",
    "\n",
    "# Plot the original binary image\n",
    "plt.subplot(1, 2, 1)\n",
    "plt.imshow(tile_uint8, cmap='gray')\n",
    "plt.title('Original Binary Image')\n",
    "plt.axis('off')\n",
    "\n",
    "# Plot the detected lines\n",
    "plt.subplot(1, 2, 2)\n",
    "plt.imshow(blank_image, cmap='gray')\n",
    "plt.title('Detected Lines')\n",
    "plt.axis('off')\n",
    "\n",
    "# Show the plots\n",
    "plt.show()"
   ]
  },
  {
   "cell_type": "code",
   "execution_count": null,
   "id": "0e486f81-73fe-4f5b-9690-10a6ba026913",
   "metadata": {},
   "outputs": [],
   "source": [
    "tile_edges = cv2.Canny(blank_image, threshold1=100, threshold2=200)\n",
    "\n",
    "plt.figure(figsize=(10, 5))\n",
    "\n",
    "# Original Image\n",
    "plt.subplot(1, 2, 1)\n",
    "plt.imshow(cv2.cvtColor(tile_uint8, cv2.COLOR_BGR2RGB))\n",
    "plt.title('Original Image')\n",
    "plt.axis('off')\n",
    "\n",
    "# Edge-detected Image\n",
    "plt.subplot(1, 2, 2)\n",
    "plt.imshow(tile_edges, cmap='gray')\n",
    "plt.title('Canny Edges')\n",
    "plt.axis('off')\n",
    "\n",
    "plt.show()"
   ]
  },
  {
   "cell_type": "code",
   "execution_count": null,
   "id": "6d4f208b-fa97-4dc7-a8ee-bb664c3c4450",
   "metadata": {},
   "outputs": [],
   "source": [
    "# Find contours in the edge-detected image\n",
    "tile_contours, _ = cv2.findContours(tile_edges, cv2.RETR_EXTERNAL, cv2.CHAIN_APPROX_SIMPLE)\n",
    "\n",
    "# Draw the contours onto a new image\n",
    "tile_lines = np.zeros_like(tile_uint8)\n",
    "contour_image = cv2.drawContours(tile_lines, tile_contours, -1, (255, 255, 255), thickness=5)"
   ]
  },
  {
   "cell_type": "code",
   "execution_count": null,
   "id": "6486c810-2ef2-4711-86a8-b309c0041649",
   "metadata": {},
   "outputs": [],
   "source": [
    "plt.figure(figsize=(10, 5))\n",
    "\n",
    "# Original Image\n",
    "plt.subplot(1, 2, 1)\n",
    "plt.imshow(cv2.cvtColor(tile_uint8, cv2.COLOR_BGR2RGB))\n",
    "plt.title('Original Image')\n",
    "plt.axis('off')\n",
    "\n",
    "# Edge-detected Image\n",
    "plt.subplot(1, 2, 2)\n",
    "plt.imshow(contour_image, cmap='gray')\n",
    "plt.title('Contour')\n",
    "plt.axis('off')\n",
    "\n",
    "plt.show()"
   ]
  },
  {
   "cell_type": "code",
   "execution_count": null,
   "id": "8665daf2-3f56-4c97-9c58-bc148b34c547",
   "metadata": {},
   "outputs": [],
   "source": [
    "# Define a kernel\n",
    "kernel = np.ones((15,15), np.uint8)\n",
    "\n",
    "# Apply dilation\n",
    "dilated_edges = cv2.dilate(contour_image, kernel, iterations=1)\n",
    "\n",
    "binary_image = dilated_edges > 0\n",
    "\n",
    "skeleton = skeletonize(binary_image)"
   ]
  },
  {
   "cell_type": "code",
   "execution_count": null,
   "id": "436d794b-64c6-4d78-aeb5-17687663a939",
   "metadata": {},
   "outputs": [],
   "source": [
    "labeled_skeleton, num_labels = measure.label(skeleton, return_num=True, connectivity=2)\n",
    "\n",
    "print(labeled_skeleton)\n",
    "print(num_labels)"
   ]
  },
  {
   "cell_type": "code",
   "execution_count": null,
   "id": "beade566-0623-4470-9b09-dd581e31e8d4",
   "metadata": {},
   "outputs": [],
   "source": [
    "def find_endpoints(skeleton):\n",
    "    endpoints = []\n",
    "    for y in range(1, skeleton.shape[0] - 1):\n",
    "        for x in range(1, skeleton.shape[1] - 1):\n",
    "            if skeleton[y, x]:\n",
    "                # Check the 8-neighborhood\n",
    "                neighbors = skeleton[y-1:y+2, x-1:x+2]\n",
    "                if np.sum(neighbors) == 2:  # Exactly one neighbor means it's an endpoint\n",
    "                    endpoints.append((x, y))\n",
    "    return endpoints"
   ]
  },
  {
   "cell_type": "code",
   "execution_count": null,
   "id": "45717b00-7659-4bd0-8c30-ebd748cc9450",
   "metadata": {},
   "outputs": [],
   "source": [
    "# Plot the skeleton and the start/end points\n",
    "plt.imshow(skeleton, cmap='gray')  # Display the skeletonized image"
   ]
  },
  {
   "cell_type": "code",
   "execution_count": 22,
   "id": "db3e2338-85c2-4860-90c4-161fa65f13de",
   "metadata": {},
   "outputs": [
    {
     "name": "stdout",
     "output_type": "stream",
     "text": [
      "[[125, 5, 177, 272], [336, 5, 395, 295], [39, 14, 121, 500], [236, 44, 318, 480], [219, 400, 235, 505], [3, 406, 30, 504]]\n"
     ]
    },
    {
     "data": {
      "image/png": "[encoded data removed]",
      "text/plain": [
       "<Figure size 640x480 with 1 Axes>"
      ]
     },
     "metadata": {},
     "output_type": "display_data"
    }
   ],
   "source": [
    "line_coordinates = []\n",
    "    \n",
    "for label in range(1, num_labels + 1):\n",
    "    component_mask = (labeled_skeleton == label)\n",
    "    endpoints = []\n",
    "    \n",
    "    # Loop through skeleton and find endpoints\n",
    "    for y in range(1, component_mask.shape[0] - 1):\n",
    "        for x in range(1, component_mask.shape[1] - 1):\n",
    "            if component_mask[y, x]:\n",
    "                # Check the 8-neighborhood\n",
    "                neighbors = component_mask[y-1:y+2, x-1:x+2]\n",
    "                if np.sum(neighbors) == 2:  # Exactly one neighbor means it's an endpoint\n",
    "                    endpoints.append((x, y))\n",
    "\n",
    "    if len(endpoints) == 2:\n",
    "        start = endpoints[0]\n",
    "        end = endpoints[1]\n",
    "        line_coordinates.append([start[0], start[1], end[0], end[1]])\n",
    "\n",
    "print(line_coordinates)\n",
    "\n",
    "for line in line_coordinates:\n",
    "    plt.plot([line[0], line[2]], [line[1], line[3]], 'r-', linewidth=2)  # Red line between start and end\n",
    "    plt.scatter([line[0], line[2]], [line[1], line[3]], c='yellow', s=50)  # Yellow dots for the points\n",
    "\n",
    "plt.ylim(0, skeleton.shape[0])\n",
    "plt.xlim(0, skeleton.shape[0])\n",
    "\n",
    "plt.gca().invert_yaxis()\n",
    "\n",
    "plt.title(\"Skeleton with Start and End Points\")\n",
    "plt.show()"
   ]
  },
  {
   "cell_type": "code",
   "execution_count": 23,
   "id": "339a1558-5cfb-444b-9d00-99187155aa7e",
   "metadata": {},
   "outputs": [],
   "source": [
    "def calculate_EA_matrix(pred_coords, gt_coords, size=(512, 512)):\n",
    "    p_lines = []\n",
    "    g_lines = []\n",
    "    for points in pred_coords:\n",
    "        if len(points) == 0:\n",
    "            continue \n",
    "        if points[0] == points[2] and points[1] == points[3]:\n",
    "            continue \n",
    "        else:\n",
    "            p_lines.append(Line(list(points)))\n",
    "    \n",
    "    for points in gt_coords:\n",
    "        if len(points) == 0:\n",
    "            continue\n",
    "        if points[0] == points[2] and points[1] == points[3]:\n",
    "            continue \n",
    "        else:\n",
    "            g_lines.append(Line(list(points)))\n",
    "            \n",
    "    rows = len(pred_coords)\n",
    "    cols = len(gt_coords)\n",
    "    \n",
    "    EA_matrix = np.zeros((cols, cols))\n",
    "    \n",
    "    for i in range(rows):\n",
    "        for j in range(cols):\n",
    "            EA_matrix[i, j] = EA_metric(p_lines[i], g_lines[j], size)\n",
    "    \n",
    "    print(\"EA Distance Matrix:\")\n",
    "    print(EA_matrix)"
   ]
  },
  {
   "cell_type": "code",
   "execution_count": 31,
   "id": "844c8493-c9c6-478f-ac05-770a5664aa1f",
   "metadata": {},
   "outputs": [
    {
     "name": "stdout",
     "output_type": "stream",
     "text": [
      "EA Distance Matrix:\n",
      "[[0.70353658 0.6741139  0.48312519 0.24423843 0.03383942]\n",
      " [0.5168378  0.68199832 0.58127021 0.31199934 0.05336652]\n",
      " [0.44781753 0.69645722 0.88651747 0.57258305 0.1800939 ]\n",
      " [0.26221965 0.42824352 0.60035457 0.7858645  0.33117563]\n",
      " [0.         0.         0.         0.         0.        ]]\n"
     ]
    }
   ],
   "source": [
    "ground_coord = [[0, 313.24078091106276, 462, 202], [0, 397.27898966704925, 450, 280], [0, 468.0588901472256, 488, 352],\n",
    "[162.0754716981137, 512, 512, 424], [499.6282722513088, 512, 512, 508.80675675675684]]\n",
    "calculate_EA_matrix(line_coordinates, ground_coord)"
   ]
  },
  {
   "cell_type": "code",
   "execution_count": 32,
   "id": "49919931-eb39-4ff3-9d61-a628371d60ac",
   "metadata": {},
   "outputs": [
    {
     "name": "stdout",
     "output_type": "stream",
     "text": [
      "3.0\n",
      "1.0\n",
      "2.0\n"
     ]
    }
   ],
   "source": [
    "tp, fp, fn, avg_len_diff = calculate_tp_fp_fn(line_coordinates, ground_coord, 0.70)\n",
    "print(tp)\n",
    "print(fp)\n",
    "print(fn)"
   ]
  },
  {
   "cell_type": "code",
   "execution_count": 24,
   "id": "d3a2754b-9912-4475-b76e-8a83b4a2a99b",
   "metadata": {},
   "outputs": [
    {
     "data": {
      "image/png": "[encoded data removed]",
      "text/plain": [
       "<Figure size 1000x500 with 2 Axes>"
      ]
     },
     "metadata": {},
     "output_type": "display_data"
    }
   ],
   "source": [
    "skeleton_uint8 = (skeleton * 255).astype(np.uint8)\n",
    "\n",
    "plt.figure(figsize=(10, 5))\n",
    "\n",
    "# Original Image\n",
    "plt.subplot(1, 2, 1)\n",
    "plt.imshow(cv2.cvtColor(tile_uint8, cv2.COLOR_BGR2RGB))\n",
    "plt.title('Original Image')\n",
    "plt.axis('off')\n",
    "\n",
    "# Edge-detected Image\n",
    "plt.subplot(1, 2, 2)\n",
    "plt.imshow(skeleton_uint8, cmap='gray')\n",
    "plt.title('Contour')\n",
    "plt.axis('off')\n",
    "\n",
    "plt.show()"
   ]
  },
  {
   "cell_type": "code",
   "execution_count": 25,
   "id": "64434f39-080b-498e-b6ba-1b4fab2c2ec4",
   "metadata": {},
   "outputs": [],
   "source": [
    "blank_image = np.zeros((512, 512), dtype=np.uint8)\n",
    "\n",
    "for line in line_coordinates:\n",
    "    x1, y1, x2, y2 = line\n",
    "    cv2.line(blank_image, (int(x1), int(y1)), (int(x2), int(y2)), color=255, thickness=2)\n",
    "\n",
    "meta.update(dtype=rasterio.uint8, height=blank_image.shape[0], width=blank_image.shape[1])\n",
    "\n",
    "output_path = 'output_with_lines.tif'\n",
    "\n",
    "# Write the blank image with lines to a new .tif file\n",
    "with rasterio.open(output_path, 'w', **meta) as dst:\n",
    "    dst.write(blank_image, 1)  # Write the modified image (with lines) to the first band\n",
    "    dst.transform = transform  # Keep the same transform (if necessary)"
   ]
  },
  {
   "cell_type": "code",
   "execution_count": 26,
   "id": "eff0887c-e9b1-45ef-925f-b3ae663dd2a8",
   "metadata": {},
   "outputs": [],
   "source": [
    "file_path = 'output_with_lines.tif'\n",
    "\n",
    "with rasterio.open(file_path) as src:\n",
    "    image = src.read(1)\n",
    "    meta = src.meta\n",
    "    transform = src.transform\n",
    "\n",
    "# Define a kernel\n",
    "kernel = np.ones((15,15), np.uint8)\n",
    "\n",
    "# Apply dilation\n",
    "dilated_edges = cv2.dilate(image, kernel, iterations=1)"
   ]
  },
  {
   "cell_type": "code",
   "execution_count": 27,
   "id": "8fb4e82e-ca47-42a4-a98a-958418df53dd",
   "metadata": {},
   "outputs": [
    {
     "data": {
      "text/plain": [
       "<matplotlib.image.AxesImage at 0x1f1e55734d0>"
      ]
     },
     "execution_count": 27,
     "metadata": {},
     "output_type": "execute_result"
    },
    {
     "data": {
      "image/png": "[encoded data removed]",
      "text/plain": [
       "<Figure size 640x480 with 1 Axes>"
      ]
     },
     "metadata": {},
     "output_type": "display_data"
    }
   ],
   "source": [
    "plt.imshow(dilated_edges)"
   ]
  },
  {
   "cell_type": "code",
   "execution_count": 30,
   "id": "7c1814bb-7d0d-4fe9-9cac-afd1e37e7e4a",
   "metadata": {},
   "outputs": [
    {
     "name": "stdout",
     "output_type": "stream",
     "text": [
      "D:\\Masters\\OVGU\\VII_Semester\\Thesis\\jupyter_notebooks\\Data\\Dataset\\test\\masks\\mask_11_4608_4608.tif\n"
     ]
    }
   ],
   "source": [
    "ground_tile_path = os.path.join(curr_path, 'Data\\Dataset\\\\test\\\\masks\\mask_11_4608_4608.tif')\n",
    "\n",
    "print(ground_tile_path)"
   ]
  },
  {
   "cell_type": "code",
   "execution_count": 31,
   "id": "a2e1925c-2bcb-4411-9121-cb0a9ba1a154",
   "metadata": {},
   "outputs": [],
   "source": [
    "with rasterio.open(ground_tile_path) as src:\n",
    "    ground_image = src.read(1)  # Read the first band (assuming grayscale)\n",
    "    meta = src.meta  # Get the metadata for the image\n",
    "    transform = src.transform  # Get the affine transform"
   ]
  },
  {
   "cell_type": "code",
   "execution_count": 32,
   "id": "f26a83ff-03a1-41f8-91ad-0b270c6750b0",
   "metadata": {},
   "outputs": [
    {
     "data": {
      "text/plain": [
       "<matplotlib.image.AxesImage at 0x1f1e76af910>"
      ]
     },
     "execution_count": 32,
     "metadata": {},
     "output_type": "execute_result"
    },
    {
     "data": {
      "image/png": "[encoded data removed]",
      "text/plain": [
       "<Figure size 640x480 with 1 Axes>"
      ]
     },
     "metadata": {},
     "output_type": "display_data"
    }
   ],
   "source": [
    "plt.imshow(ground_image)"
   ]
  },
  {
   "cell_type": "code",
   "execution_count": 33,
   "id": "b925d620-14ff-4374-9271-e2242ed858ba",
   "metadata": {},
   "outputs": [
    {
     "data": {
      "text/plain": [
       "array([[0., 0., 0., ..., 0., 0., 0.],\n",
       "       [0., 0., 0., ..., 0., 0., 0.],\n",
       "       [0., 0., 0., ..., 0., 0., 0.],\n",
       "       ...,\n",
       "       [0., 0., 0., ..., 0., 0., 0.],\n",
       "       [0., 0., 0., ..., 0., 0., 0.],\n",
       "       [0., 0., 0., ..., 0., 0., 0.]], dtype=float32)"
      ]
     },
     "execution_count": 33,
     "metadata": {},
     "output_type": "execute_result"
    }
   ],
   "source": [
    "ground_image"
   ]
  },
  {
   "cell_type": "code",
   "execution_count": 50,
   "id": "e00c37e8-d43b-44ac-94f2-578f100dcf79",
   "metadata": {},
   "outputs": [],
   "source": [
    "def calculate_iou_for_both_classes(ground_truth_mask, predicted_mask):\n",
    "    \"\"\"\n",
    "    Calculate Intersection over Union (IoU) for both the background class (0) and the positive class (1)\n",
    "    in binary segmentation masks.\n",
    "\n",
    "    Args:\n",
    "        ground_truth_mask (numpy array): Binary ground truth mask (2D array of 0s and 1s).\n",
    "        predicted_mask (numpy array): Binary predicted mask (2D array of 0s and 1s).\n",
    "\n",
    "    Returns:\n",
    "        tuple: IoU score for the background class (0), IoU score for the positive class (1).\n",
    "    \"\"\"\n",
    "    # Ensure both masks are binary (contain only 0s and 1s)\n",
    "    ground_truth_mask = ground_truth_mask.astype(np.uint8)\n",
    "    predicted_mask = predicted_mask.astype(np.uint8)\n",
    "\n",
    "    # Calculate IoU for class 1 (positive class)\n",
    "    intersection_1 = np.logical_and(ground_truth_mask == 1, predicted_mask == 1).sum()\n",
    "    union_1 = np.logical_or(ground_truth_mask == 1, predicted_mask == 1).sum()\n",
    "\n",
    "    iou_1 = intersection_1 / union_1 if union_1 != 0 else 0.0\n",
    "    print(f\"Class 1 (Positive): Intersection={intersection_1}, Union={union_1}, IoU={iou_1}\")\n",
    "\n",
    "    # Calculate IoU for class 0 (background class)\n",
    "    intersection_0 = np.logical_and(ground_truth_mask == 0, predicted_mask == 0).sum()\n",
    "    union_0 = np.logical_or(ground_truth_mask == 0, predicted_mask == 0).sum()\n",
    "\n",
    "    iou_0 = intersection_0 / union_0 if union_0 != 0 else 0.0\n",
    "    print(f\"Class 0 (Background): Intersection={intersection_0}, Union={union_0}, IoU={iou_0}\")\n",
    "\n",
    "    return iou_0, iou_1\n"
   ]
  },
  {
   "cell_type": "code",
   "execution_count": 51,
   "id": "ea029e48-6978-44a4-ab85-13c1dea5fd12",
   "metadata": {},
   "outputs": [
    {
     "name": "stdout",
     "output_type": "stream",
     "text": [
      "Class 1 (Positive): Intersection=0, Union=47472, IoU=0.0\n",
      "Class 0 (Background): Intersection=204604, Union=237776, IoU=0.8604905457237063\n",
      "IoU Score: 0.8604905457237063\n",
      "0.0\n"
     ]
    }
   ],
   "source": [
    "iou_score, iou_1 = calculate_iou_for_both_classes(ground_image, dilated_edges)\n",
    "print(f\"IoU Score: {iou_score}\")\n",
    "print(iou_1)"
   ]
  },
  {
   "cell_type": "code",
   "execution_count": 47,
   "id": "5bf75489-f4a9-4408-a4ea-2c415ec9fdb5",
   "metadata": {},
   "outputs": [
    {
     "name": "stdout",
     "output_type": "stream",
     "text": [
      "[(0, 398, 39, 512), (211, 392, 244, 512), (228, 36, 327, 489), (31, 6, 130, 509), (328, 0, 404, 304), (117, 0, 186, 281)]\n"
     ]
    }
   ],
   "source": [
    "contours, _ = cv2.findContours(dilated_edges, cv2.RETR_EXTERNAL, cv2.CHAIN_APPROX_SIMPLE)\n",
    "\n",
    "# Step 2: Get bounding boxes for each contour\n",
    "bounding_boxes = []\n",
    "for contour in contours:\n",
    "    x, y, w, h = cv2.boundingRect(contour)  # x, y are top-left coordinates, w is width, h is height\n",
    "    bounding_boxes.append((x, y, x + w, y + h))  # Convert to (x1, y1, x2, y2) format\n",
    "\n",
    "# Now `bounding_boxes` contains the bounding box coordinates for your dilated lines\n",
    "print(bounding_boxes)"
   ]
  },
  {
   "cell_type": "code",
   "execution_count": 62,
   "id": "cb0cc61e-9ef6-49e4-a798-ad9104730c5b",
   "metadata": {},
   "outputs": [],
   "source": [
    "ground_image = os.path.join(curr_path, 'Data\\Dataset\\\\test\\masks\\mask_11_4224_3840.tif')"
   ]
  },
  {
   "cell_type": "code",
   "execution_count": 65,
   "id": "50402222-0b06-4c02-bb24-86e5b77300d8",
   "metadata": {},
   "outputs": [],
   "source": [
    "with rasterio.open(ground_image) as src:\n",
    "    image = src.read(1)\n",
    "    meta = src.meta\n",
    "    transform = src.transform\n",
    "\n",
    "image_uint8 = (image * 255).astype(np.uint8)"
   ]
  },
  {
   "cell_type": "code",
   "execution_count": 66,
   "id": "36e52801-63d0-422b-8577-822c44aa6fd8",
   "metadata": {},
   "outputs": [
    {
     "name": "stdout",
     "output_type": "stream",
     "text": [
      "[(469, 500, 512, 512), (126, 417, 512, 512), (0, 345, 497, 484), (0, 273, 459, 407), (0, 195, 471, 327)]\n"
     ]
    }
   ],
   "source": [
    "contours, _ = cv2.findContours(image_uint8, cv2.RETR_EXTERNAL, cv2.CHAIN_APPROX_SIMPLE)\n",
    "\n",
    "# Step 2: Get bounding boxes for each contour\n",
    "ground_bounding_boxes = []\n",
    "for contour in contours:\n",
    "    x, y, w, h = cv2.boundingRect(contour)  # x, y are top-left coordinates, w is width, h is height\n",
    "    ground_bounding_boxes.append((x, y, x + w, y + h))  # Convert to (x1, y1, x2, y2) format\n",
    "\n",
    "# Now `bounding_boxes` contains the bounding box coordinates for your dilated lines\n",
    "print(ground_bounding_boxes)"
   ]
  },
  {
   "cell_type": "code",
   "execution_count": 38,
   "id": "02427a9e-503e-410a-8c6a-59a42d67fe00",
   "metadata": {},
   "outputs": [
    {
     "data": {
      "image/png": "[encoded data removed]",
      "text/plain": [
       "<Figure size 1000x500 with 2 Axes>"
      ]
     },
     "metadata": {},
     "output_type": "display_data"
    }
   ],
   "source": [
    "# Display the original binary image and the detected lines\n",
    "plt.figure(figsize=(10, 5))\n",
    "\n",
    "# Plot the original binary image\n",
    "plt.subplot(1, 2, 1)\n",
    "plt.imshow(tile_uint8, cmap='gray')\n",
    "plt.title('Original Binary Image')\n",
    "plt.axis('off')\n",
    "\n",
    "# Plot the detected lines\n",
    "plt.subplot(1, 2, 2)\n",
    "plt.imshow(refined_blank, cmap='gray')\n",
    "plt.title('Detected Lines')\n",
    "plt.axis('off')\n",
    "\n",
    "# Show the plots\n",
    "plt.show()"
   ]
  },
  {
   "cell_type": "code",
   "execution_count": 39,
   "id": "c9e6439f-fd6d-44d2-b1b2-0d1ae22b68f0",
   "metadata": {},
   "outputs": [
    {
     "ename": "FileNotFoundError",
     "evalue": "[Errno 2] No such file or directory: 'D:\\\\Masters\\\\OVGU\\\\VII_Semester\\\\Thesis\\\\jupyter_notebooks\\\\Data\\\\Tile_Line_Coo_2\\\\output_3584_4608_coo.txt'",
     "output_type": "error",
     "traceback": [
      "\u001b[1;31m---------------------------------------------------------------------------\u001b[0m",
      "\u001b[1;31mFileNotFoundError\u001b[0m                         Traceback (most recent call last)",
      "Cell \u001b[1;32mIn[39], line 5\u001b[0m\n\u001b[0;32m      1\u001b[0m ground_truth_coor_path \u001b[38;5;241m=\u001b[39m os\u001b[38;5;241m.\u001b[39mpath\u001b[38;5;241m.\u001b[39mjoin(curr_path, \u001b[38;5;124m'\u001b[39m\u001b[38;5;124mData\u001b[39m\u001b[38;5;130;01m\\\\\u001b[39;00m\u001b[38;5;124mTile_Line_Coo_2\u001b[39m\u001b[38;5;130;01m\\\\\u001b[39;00m\u001b[38;5;124moutput_3584_4608_coo.txt\u001b[39m\u001b[38;5;124m'\u001b[39m)\n\u001b[0;32m      3\u001b[0m ground_truth_coor \u001b[38;5;241m=\u001b[39m []\n\u001b[1;32m----> 5\u001b[0m \u001b[38;5;28;01mwith\u001b[39;00m \u001b[38;5;28mopen\u001b[39m(ground_truth_coor_path, \u001b[38;5;124m'\u001b[39m\u001b[38;5;124mr\u001b[39m\u001b[38;5;124m'\u001b[39m) \u001b[38;5;28;01mas\u001b[39;00m file:\n\u001b[0;32m      6\u001b[0m     \u001b[38;5;28;01mfor\u001b[39;00m line \u001b[38;5;129;01min\u001b[39;00m file:\n\u001b[0;32m      7\u001b[0m         line \u001b[38;5;241m=\u001b[39m line\u001b[38;5;241m.\u001b[39mstrip()\n",
      "File \u001b[1;32mC:\\ProgramData\\anaconda3\\Lib\\site-packages\\IPython\\core\\interactiveshell.py:310\u001b[0m, in \u001b[0;36m_modified_open\u001b[1;34m(file, *args, **kwargs)\u001b[0m\n\u001b[0;32m    303\u001b[0m \u001b[38;5;28;01mif\u001b[39;00m file \u001b[38;5;129;01min\u001b[39;00m {\u001b[38;5;241m0\u001b[39m, \u001b[38;5;241m1\u001b[39m, \u001b[38;5;241m2\u001b[39m}:\n\u001b[0;32m    304\u001b[0m     \u001b[38;5;28;01mraise\u001b[39;00m \u001b[38;5;167;01mValueError\u001b[39;00m(\n\u001b[0;32m    305\u001b[0m         \u001b[38;5;124mf\u001b[39m\u001b[38;5;124m\"\u001b[39m\u001b[38;5;124mIPython won\u001b[39m\u001b[38;5;124m'\u001b[39m\u001b[38;5;124mt let you open fd=\u001b[39m\u001b[38;5;132;01m{\u001b[39;00mfile\u001b[38;5;132;01m}\u001b[39;00m\u001b[38;5;124m by default \u001b[39m\u001b[38;5;124m\"\u001b[39m\n\u001b[0;32m    306\u001b[0m         \u001b[38;5;124m\"\u001b[39m\u001b[38;5;124mas it is likely to crash IPython. If you know what you are doing, \u001b[39m\u001b[38;5;124m\"\u001b[39m\n\u001b[0;32m    307\u001b[0m         \u001b[38;5;124m\"\u001b[39m\u001b[38;5;124myou can use builtins\u001b[39m\u001b[38;5;124m'\u001b[39m\u001b[38;5;124m open.\u001b[39m\u001b[38;5;124m\"\u001b[39m\n\u001b[0;32m    308\u001b[0m     )\n\u001b[1;32m--> 310\u001b[0m \u001b[38;5;28;01mreturn\u001b[39;00m io_open(file, \u001b[38;5;241m*\u001b[39margs, \u001b[38;5;241m*\u001b[39m\u001b[38;5;241m*\u001b[39mkwargs)\n",
      "\u001b[1;31mFileNotFoundError\u001b[0m: [Errno 2] No such file or directory: 'D:\\\\Masters\\\\OVGU\\\\VII_Semester\\\\Thesis\\\\jupyter_notebooks\\\\Data\\\\Tile_Line_Coo_2\\\\output_3584_4608_coo.txt'"
     ]
    }
   ],
   "source": [
    "ground_truth_coor_path = os.path.join(curr_path, 'Data\\\\Tile_Line_Coo_2\\\\output_3584_4608_coo.txt')\n",
    "\n",
    "ground_truth_coor = []\n",
    "\n",
    "with open(ground_truth_coor_path, 'r') as file:\n",
    "    for line in file:\n",
    "        line = line.strip()\n",
    "\n",
    "        coordinates = [float(x) for x in line.split(',')]\n",
    "\n",
    "        ground_truth_coor.append(coordinates)\n",
    "\n",
    "print(ground_truth_coor)"
   ]
  },
  {
   "cell_type": "code",
   "execution_count": null,
   "id": "49338b57-9364-432e-86fd-1928f1d13ce4",
   "metadata": {},
   "outputs": [],
   "source": [
    "refined_lines = refined_lines.reshape(-1, 4)"
   ]
  },
  {
   "cell_type": "code",
   "execution_count": null,
   "id": "0a72c476-16a1-4a8f-acee-0d8f19a15b7a",
   "metadata": {},
   "outputs": [],
   "source": [
    "print(refined_lines.shape)"
   ]
  },
  {
   "cell_type": "code",
   "execution_count": 40,
   "id": "7c156d76-5a80-4ff5-b889-0d8445bedc90",
   "metadata": {},
   "outputs": [
    {
     "ename": "IndexError",
     "evalue": "index 2 is out of bounds for axis 0 with size 1",
     "output_type": "error",
     "traceback": [
      "\u001b[1;31m---------------------------------------------------------------------------\u001b[0m",
      "\u001b[1;31mIndexError\u001b[0m                                Traceback (most recent call last)",
      "Cell \u001b[1;32mIn[40], line 1\u001b[0m\n\u001b[1;32m----> 1\u001b[0m tp, fp, fn, avg_len_diff \u001b[38;5;241m=\u001b[39m calculate_tp_fp_fn(refined_lines, ground_truth_coor, \u001b[38;5;241m0.80\u001b[39m)\n\u001b[0;32m      3\u001b[0m \u001b[38;5;28mprint\u001b[39m(\u001b[38;5;124m'\u001b[39m\u001b[38;5;124mTrue_Positives\u001b[39m\u001b[38;5;124m'\u001b[39m, tp)\n\u001b[0;32m      4\u001b[0m \u001b[38;5;28mprint\u001b[39m(\u001b[38;5;124m'\u001b[39m\u001b[38;5;124mFalse Positives\u001b[39m\u001b[38;5;124m'\u001b[39m, fp)\n",
      "Cell \u001b[1;32mIn[10], line 7\u001b[0m, in \u001b[0;36mcalculate_tp_fp_fn\u001b[1;34m(b_points, gt_coords, thresh)\u001b[0m\n\u001b[0;32m      5\u001b[0m \u001b[38;5;28;01mif\u001b[39;00m \u001b[38;5;28mlen\u001b[39m(points) \u001b[38;5;241m==\u001b[39m \u001b[38;5;241m0\u001b[39m:\n\u001b[0;32m      6\u001b[0m     \u001b[38;5;28;01mcontinue\u001b[39;00m \n\u001b[1;32m----> 7\u001b[0m \u001b[38;5;28;01mif\u001b[39;00m points[\u001b[38;5;241m0\u001b[39m] \u001b[38;5;241m==\u001b[39m points[\u001b[38;5;241m2\u001b[39m] \u001b[38;5;129;01mand\u001b[39;00m points[\u001b[38;5;241m1\u001b[39m] \u001b[38;5;241m==\u001b[39m points[\u001b[38;5;241m3\u001b[39m]:\n\u001b[0;32m      8\u001b[0m     \u001b[38;5;28;01mcontinue\u001b[39;00m \n\u001b[0;32m      9\u001b[0m \u001b[38;5;28;01melse\u001b[39;00m:\n",
      "\u001b[1;31mIndexError\u001b[0m: index 2 is out of bounds for axis 0 with size 1"
     ]
    }
   ],
   "source": [
    "tp, fp, fn, avg_len_diff = calculate_tp_fp_fn(refined_lines, ground_truth_coor, 0.80)\n",
    "\n",
    "print('True_Positives', tp)\n",
    "print('False Positives', fp)\n",
    "print('False Negatives', fn)\n",
    "print('Average Length Difference', avg_len_diff)"
   ]
  },
  {
   "cell_type": "code",
   "execution_count": 41,
   "id": "ca5a0ce7-e415-408d-aa18-d25bd5236a13",
   "metadata": {},
   "outputs": [
    {
     "ename": "NameError",
     "evalue": "name 'p' is not defined",
     "output_type": "error",
     "traceback": [
      "\u001b[1;31m---------------------------------------------------------------------------\u001b[0m",
      "\u001b[1;31mNameError\u001b[0m                                 Traceback (most recent call last)",
      "Cell \u001b[1;32mIn[41], line 2\u001b[0m\n\u001b[0;32m      1\u001b[0m \u001b[38;5;28;01mfor\u001b[39;00m i \u001b[38;5;129;01min\u001b[39;00m \u001b[38;5;28mrange\u001b[39m(\u001b[38;5;241m4\u001b[39m):\n\u001b[1;32m----> 2\u001b[0m     x1, y1, x2, y2 \u001b[38;5;241m=\u001b[39m p[i]\u001b[38;5;241m.\u001b[39mcoord\n\u001b[0;32m      3\u001b[0m     plt\u001b[38;5;241m.\u001b[39mplot([x1, x2], [y1, y2] , \u001b[38;5;124m'\u001b[39m\u001b[38;5;124mr-\u001b[39m\u001b[38;5;124m'\u001b[39m)\n\u001b[0;32m      5\u001b[0m     x1, y1, x2, y2 \u001b[38;5;241m=\u001b[39m g[i]\u001b[38;5;241m.\u001b[39mcoord\n",
      "\u001b[1;31mNameError\u001b[0m: name 'p' is not defined"
     ]
    }
   ],
   "source": [
    "for i in range(4):\n",
    "    x1, y1, x2, y2 = p[i].coord\n",
    "    plt.plot([x1, x2], [y1, y2] , 'r-')\n",
    "\n",
    "    x1, y1, x2, y2 = g[i].coord\n",
    "    plt.plot([x1, x2], [y1, y2] , 'orange')\n",
    "\n",
    "plt.gca().invert_yaxis()\n",
    "plt.xlabel('X')\n",
    "plt.ylabel('Y')\n",
    "plt.show()"
   ]
  },
  {
   "cell_type": "code",
   "execution_count": null,
   "id": "46b40500-c514-4a49-8390-d5537fcef9e6",
   "metadata": {},
   "outputs": [],
   "source": [
    "print(type(p))"
   ]
  },
  {
   "cell_type": "code",
   "execution_count": null,
   "id": "3e167daf-a5e2-465e-8bd5-bb82f7385a5c",
   "metadata": {},
   "outputs": [],
   "source": [
    "print(avg_len)"
   ]
  },
  {
   "cell_type": "code",
   "execution_count": null,
   "id": "6524d1f1-c1b4-4e35-8935-f793aa199238",
   "metadata": {},
   "outputs": [],
   "source": [
    "print(p)"
   ]
  },
  {
   "cell_type": "code",
   "execution_count": null,
   "id": "43e0f237-3265-44ea-8dcf-d32838803c2c",
   "metadata": {},
   "outputs": [],
   "source": [
    "print(g)"
   ]
  },
  {
   "cell_type": "code",
   "execution_count": 42,
   "id": "285c9932-fa7a-4cfe-b27b-b32a9da82146",
   "metadata": {},
   "outputs": [],
   "source": [
    "import cv2\n",
    "import numpy as np\n",
    "\n",
    "def create_bounding_boxes(lines, image_shape, width=1):\n",
    "    \"\"\"\n",
    "    Creates bounding boxes around lines in an image.\n",
    "\n",
    "    Args:\n",
    "        lines: A list of lines, each represented as a tuple (x1, y1, x2, y2).\n",
    "        image_shape: The shape of the image (height, width).\n",
    "        width: The desired width of the bounding boxes (applied perpendicular to the line).\n",
    "\n",
    "    Returns:\n",
    "        A list of bounding boxes, each represented as a tuple (x_min, y_min, x_max, y_max).\n",
    "    \"\"\"\n",
    "\n",
    "    bounding_boxes = []\n",
    "    half_width = width / 2\n",
    "\n",
    "    for line in lines:\n",
    "        x1, y1, x2, y2 = line\n",
    "        dx = x2 - x1\n",
    "        dy = y2 - y1\n",
    "\n",
    "        # Normalize the direction of the line\n",
    "        length = np.sqrt(dx**2 + dy**2)\n",
    "        if length == 0:\n",
    "            continue  # Skip degenerate lines\n",
    "\n",
    "        # Unit vector perpendicular to the line (dy, -dx)\n",
    "        perp_dx = -dy / length\n",
    "        perp_dy = dx / length\n",
    "\n",
    "        # Compute the four corners of the bounding box\n",
    "        x1_bb_min = int(max(min(x1 + perp_dx * half_width, x1 - perp_dx * half_width), 0))\n",
    "        y1_bb_min = int(max(min(y1 + perp_dy * half_width, y1 - perp_dy * half_width), 0))\n",
    "        x2_bb_max = int(min(max(x2 + perp_dx * half_width, x2 - perp_dx * half_width), image_shape[1] - 1))\n",
    "        y2_bb_max = int(min(max(y2 + perp_dy * half_width, y2 - perp_dy * half_width), image_shape[0] - 1))\n",
    "\n",
    "        # Ensure proper bounding box ordering (x_min, y_min, x_max, y_max)\n",
    "        x_min = min(x1_bb_min, x2_bb_max)\n",
    "        y_min = min(y1_bb_min, y2_bb_max)\n",
    "        x_max = max(x1_bb_min, x2_bb_max)\n",
    "        y_max = max(y1_bb_min, y2_bb_max)\n",
    "\n",
    "        bounding_boxes.append((x_min, y_min, x_max, y_max))\n",
    "\n",
    "    return bounding_boxes\n"
   ]
  },
  {
   "cell_type": "code",
   "execution_count": 43,
   "id": "93d702fe-0039-46f1-8be8-4b1c72903d2c",
   "metadata": {},
   "outputs": [
    {
     "name": "stdout",
     "output_type": "stream",
     "text": [
      "[(12, 248, 297, 320), (60, 337, 225, 384), (8, 360, 445, 480), (242, 461, 363, 502)]\n"
     ]
    }
   ],
   "source": [
    "# Example usage:\n",
    "image_shape = (512, 512)  # Replace with your actual image shape\n",
    "#lines = [(100, 200, 300, 400), (200, 100, 400, 300)]  # Example lines\n",
    "pred_bounding_boxes = create_bounding_boxes(line_coordinates, image_shape, width=2)\n",
    "print(pred_bounding_boxes)"
   ]
  },
  {
   "cell_type": "code",
   "execution_count": 44,
   "id": "2a67e846-bb2f-4cb6-9b1b-e91d27df67b1",
   "metadata": {},
   "outputs": [
    {
     "name": "stdout",
     "output_type": "stream",
     "text": [
      "[(0, 202, 462, 312), (0, 280, 450, 396), (0, 352, 488, 467), (161, 424, 511, 511), (499, 509, 511, 511)]\n"
     ]
    }
   ],
   "source": [
    "ground_bounding_boxes = create_bounding_boxes(ground_coord, image_shape, width=2)\n",
    "print(ground_bounding_boxes)"
   ]
  },
  {
   "cell_type": "code",
   "execution_count": 45,
   "id": "1167f986-ecf8-4fa7-8462-d89a508ca01f",
   "metadata": {},
   "outputs": [],
   "source": [
    "from torchvision.ops import box_iou"
   ]
  },
  {
   "cell_type": "code",
   "execution_count": 48,
   "id": "bb9b4e27-f4bd-4b9f-bb30-f6fa86243719",
   "metadata": {},
   "outputs": [],
   "source": [
    "ground_truth_boxes_tensor = torch.tensor(ground_bounding_boxes, dtype=torch.float)\n",
    "predicted_boxes_tensor = torch.tensor(pred_bounding_boxes, dtype=torch.float)"
   ]
  },
  {
   "cell_type": "code",
   "execution_count": 49,
   "id": "9f28f9d6-8f65-44ff-b5d1-d8b718696600",
   "metadata": {},
   "outputs": [],
   "source": [
    "iou_matrix = box_iou(predicted_boxes_tensor, ground_truth_boxes_tensor)"
   ]
  },
  {
   "cell_type": "code",
   "execution_count": 50,
   "id": "c6a8004a-5c86-4363-bd34-01689613c1c4",
   "metadata": {},
   "outputs": [
    {
     "name": "stdout",
     "output_type": "stream",
     "text": [
      "IoU matrix:\n",
      "tensor([[0.3435, 0.1859, 0.0000, 0.0000, 0.0000],\n",
      "        [0.0000, 0.1486, 0.0901, 0.0000, 0.0000],\n",
      "        [0.0000, 0.1769, 0.7566, 0.2374, 0.0000],\n",
      "        [0.0000, 0.0000, 0.0120, 0.1629, 0.0000]])\n"
     ]
    }
   ],
   "source": [
    "print(\"IoU matrix:\")\n",
    "print(iou_matrix)"
   ]
  },
  {
   "cell_type": "code",
   "execution_count": 82,
   "id": "0b5cd661-3b3d-46fb-b7fc-c92812f857c8",
   "metadata": {},
   "outputs": [],
   "source": [
    "import cv2\n",
    "import matplotlib.pyplot as plt\n",
    "import numpy as np\n",
    "\n",
    "# Create a blank black image\n",
    "image_dummy = np.zeros((512, 512, 3), dtype=np.uint8)"
   ]
  },
  {
   "cell_type": "code",
   "execution_count": 87,
   "id": "7f54a83a-2912-4f7e-b867-57af5b18fe48",
   "metadata": {},
   "outputs": [],
   "source": [
    "def visualize_bounding_boxes_with_width(image, lines, width=10):\n",
    "    \"\"\"\n",
    "    Visualizes bounding boxes around diagonal lanes on the given image with a specified width.\n",
    "\n",
    "    Args:\n",
    "        image: The image as a NumPy array (H, W, C).\n",
    "        lines: A list of lines, each represented as (x1, y1, x2, y2).\n",
    "        width: The width of the bounding box around the line.\n",
    "    \"\"\"\n",
    "    image_copy = image.copy()\n",
    "    bounding_boxes = []  # List to store bounding box coordinates\n",
    "\n",
    "    for line in lines:\n",
    "        # Get line coordinates\n",
    "        x1, y1, x2, y2 = line\n",
    "        dx = x2 - x1\n",
    "        dy = y2 - y1\n",
    "        line_length = np.sqrt(dx**2 + dy**2)\n",
    "        \n",
    "        # Normalize direction vectors (perpendicular to the line)\n",
    "        perpendicular_dx = -dy / line_length * width / 2\n",
    "        perpendicular_dy = dx / line_length * width / 2\n",
    "\n",
    "        # Compute the 4 corners of the bounding box\n",
    "        box = np.array([\n",
    "            [x1 - perpendicular_dx, y1 - perpendicular_dy],\n",
    "            [x1 + perpendicular_dx, y1 + perpendicular_dy],\n",
    "            [x2 + perpendicular_dx, y2 + perpendicular_dy],\n",
    "            [x2 - perpendicular_dx, y2 - perpendicular_dy]\n",
    "        ], dtype=np.intp)\n",
    "\n",
    "        bounding_boxes.append(box)  # Store the bounding box\n",
    "\n",
    "        # Draw the bounding box\n",
    "        cv2.polylines(image_copy, [box], isClosed=True, color=(0, 255, 0), thickness=2)  # Green for bounding box\n",
    "\n",
    "    # Display the image with bounding boxes\n",
    "    plt.figure(figsize=(10, 10))\n",
    "    plt.imshow(cv2.cvtColor(image_copy, cv2.COLOR_BGR2RGB))\n",
    "    plt.axis('off')\n",
    "    plt.show()\n",
    "\n",
    "    # Print bounding boxes for further use\n",
    "    print(\"Bounding boxes:\", bounding_boxes)\n"
   ]
  },
  {
   "cell_type": "code",
   "execution_count": 88,
   "id": "915a7063-20d7-4d7e-9e17-6420f6a0bd4e",
   "metadata": {},
   "outputs": [
    {
     "data": {
      "image/png": "[encoded data removed]",
      "text/plain": [
       "<Figure size 1000x1000 with 1 Axes>"
      ]
     },
     "metadata": {},
     "output_type": "display_data"
    },
    {
     "name": "stdout",
     "output_type": "stream",
     "text": [
      "Bounding boxes: [array([[299, 253],\n",
      "       [296, 244],\n",
      "       [ 10, 315],\n",
      "       [ 13, 324]], dtype=int64), array([[227, 342],\n",
      "       [224, 333],\n",
      "       [ 58, 379],\n",
      "       [ 61, 388]], dtype=int64), array([[447, 365],\n",
      "       [444, 356],\n",
      "       [  6, 475],\n",
      "       [  9, 484]], dtype=int64), array([[365, 466],\n",
      "       [362, 457],\n",
      "       [240, 497],\n",
      "       [243, 506]], dtype=int64)]\n"
     ]
    }
   ],
   "source": [
    "# Call the function to visualize\n",
    "visualize_bounding_boxes_with_width(image_dummy, line_coordinates)"
   ]
  },
  {
   "cell_type": "code",
   "execution_count": 74,
   "id": "4f64e223-58e5-4a4a-928f-99df90839030",
   "metadata": {},
   "outputs": [
    {
     "data": {
      "text/plain": [
       "<matplotlib.image.AxesImage at 0x1c580731c90>"
      ]
     },
     "execution_count": 74,
     "metadata": {},
     "output_type": "execute_result"
    },
    {
     "data": {
      "image/png": "[encoded data removed]",
      "text/plain": [
       "<Figure size 640x480 with 1 Axes>"
      ]
     },
     "metadata": {},
     "output_type": "display_data"
    }
   ],
   "source": [
    "plt.imshow(image_dummy)"
   ]
  },
  {
   "cell_type": "code",
   "execution_count": 78,
   "id": "29350627-4fd0-46ab-b22d-f1dde0ab2cc0",
   "metadata": {},
   "outputs": [],
   "source": [
    "def extract_bounding_boxes(lines, width=10):\n",
    "    bounding_boxes = []\n",
    "    \n",
    "    for line in lines:\n",
    "        x1, y1, x2, y2 = line\n",
    "        dx = x2 - x1\n",
    "        dy = y2 - y1\n",
    "        line_length = np.sqrt(dx**2 + dy**2)\n",
    "        \n",
    "        # Normalize direction vectors (perpendicular to the line)\n",
    "        perpendicular_dx = -dy / line_length * width / 2\n",
    "        perpendicular_dy = dx / line_length * width / 2\n",
    "\n",
    "        # Compute the 4 corners of the bounding box\n",
    "        box = np.array([\n",
    "            [x1 - perpendicular_dx, y1 - perpendicular_dy],\n",
    "            [x1 + perpendicular_dx, y1 + perpendicular_dy],\n",
    "            [x2 + perpendicular_dx, y2 + perpendicular_dy],\n",
    "            [x2 - perpendicular_dx, y2 - perpendicular_dy]\n",
    "        ], dtype=np.int32)\n",
    "\n",
    "        # Convert to (x1, y1, x2, y2) format\n",
    "        x_min = int(min(box[:, 0]))\n",
    "        y_min = int(min(box[:, 1]))\n",
    "        x_max = int(max(box[:, 0]))\n",
    "        y_max = int(max(box[:, 1]))\n",
    "        \n",
    "        bounding_boxes.append((x_min, y_min, x_max, y_max))\n",
    "\n",
    "    return bounding_boxes"
   ]
  },
  {
   "cell_type": "code",
   "execution_count": 79,
   "id": "767a02ff-97c3-49d7-8751-ce073434c16c",
   "metadata": {},
   "outputs": [],
   "source": [
    "predicted_boxes = extract_bounding_boxes(line_coordinates, width = 15)"
   ]
  },
  {
   "cell_type": "code",
   "execution_count": 80,
   "id": "9bea0279-45ac-4930-8109-df489103796b",
   "metadata": {},
   "outputs": [],
   "source": [
    "ground_boxes = extract_bounding_boxes(ground_coord, width = 15)"
   ]
  },
  {
   "cell_type": "code",
   "execution_count": 81,
   "id": "0264981c-5401-4027-b667-d30d18474754",
   "metadata": {},
   "outputs": [],
   "source": [
    "def plot_bounding_boxes(image, bounding_boxes):\n",
    "    \"\"\"\n",
    "    Plots bounding boxes on the image.\n",
    "\n",
    "    Args:\n",
    "        image: The image as a NumPy array (H, W, C).\n",
    "        bounding_boxes: A list of bounding boxes [(x1, y1, x2, y2), ...].\n",
    "    \"\"\"\n",
    "    # Make a copy of the image for drawing\n",
    "    image_copy = image.copy()\n",
    "\n",
    "    # Draw each bounding box\n",
    "    for box in bounding_boxes:\n",
    "        x1, y1, x2, y2 = map(int, box)  # Convert to integer\n",
    "        cv2.rectangle(image_copy, (x1, y1), (x2, y2), color=(0, 255, 0), thickness=2)\n",
    "\n",
    "    # Display the image with bounding boxes\n",
    "    plt.figure(figsize=(10, 10))\n",
    "    plt.imshow(cv2.cvtColor(image_copy, cv2.COLOR_BGR2RGB))  # Convert BGR to RGB for display\n",
    "    plt.axis('off')  # Turn off axis labels\n",
    "    plt.show()"
   ]
  },
  {
   "cell_type": "code",
   "execution_count": 83,
   "id": "1e93aea1-0a77-418f-917b-47754fcc2b5d",
   "metadata": {},
   "outputs": [
    {
     "data": {
      "image/png": "[encoded data removed]",
      "text/plain": [
       "<Figure size 1000x1000 with 1 Axes>"
      ]
     },
     "metadata": {},
     "output_type": "display_data"
    }
   ],
   "source": [
    "image_shape = (512, 512, 3)\n",
    "blank_image = np.zeros(image_shape, dtype=np.uint8)\n",
    "\n",
    "# Plot the bounding boxes on the blank image\n",
    "plot_bounding_boxes(blank_image, predicted_boxes)"
   ]
  },
  {
   "cell_type": "code",
   "execution_count": 86,
   "id": "871e3f28-a39d-4ca4-9091-5316c2d1db91",
   "metadata": {},
   "outputs": [
    {
     "name": "stdout",
     "output_type": "stream",
     "text": [
      "[(10, 241, 299, 327), (57, 330, 228, 391), (6, 353, 447, 487), (239, 454, 366, 509)]\n"
     ]
    }
   ],
   "source": [
    "print(predicted_boxes)"
   ]
  },
  {
   "cell_type": "code",
   "execution_count": 93,
   "id": "92b07390-63be-41ae-b648-42d9e16d0861",
   "metadata": {},
   "outputs": [
    {
     "ename": "TypeError",
     "evalue": "'int' object is not subscriptable",
     "output_type": "error",
     "traceback": [
      "\u001b[1;31m---------------------------------------------------------------------------\u001b[0m",
      "\u001b[1;31mTypeError\u001b[0m                                 Traceback (most recent call last)",
      "Cell \u001b[1;32mIn[93], line 5\u001b[0m\n\u001b[0;32m      1\u001b[0m formatted_boxes \u001b[38;5;241m=\u001b[39m []\n\u001b[0;32m      3\u001b[0m \u001b[38;5;28;01mfor\u001b[39;00m box \u001b[38;5;129;01min\u001b[39;00m bounding_boxes:\n\u001b[0;32m      4\u001b[0m     \u001b[38;5;66;03m# box should be a list or array of shape (4, 2)\u001b[39;00m\n\u001b[1;32m----> 5\u001b[0m     x_coords \u001b[38;5;241m=\u001b[39m [point[\u001b[38;5;241m0\u001b[39m] \u001b[38;5;28;01mfor\u001b[39;00m point \u001b[38;5;129;01min\u001b[39;00m box]  \u001b[38;5;66;03m# Extract x coordinates\u001b[39;00m\n\u001b[0;32m      6\u001b[0m     y_coords \u001b[38;5;241m=\u001b[39m [point[\u001b[38;5;241m1\u001b[39m] \u001b[38;5;28;01mfor\u001b[39;00m point \u001b[38;5;129;01min\u001b[39;00m box]  \u001b[38;5;66;03m# Extract y coordinates\u001b[39;00m\n\u001b[0;32m      8\u001b[0m     \u001b[38;5;66;03m# Calculate the bounding box coordinates\u001b[39;00m\n",
      "Cell \u001b[1;32mIn[93], line 5\u001b[0m, in \u001b[0;36m<listcomp>\u001b[1;34m(.0)\u001b[0m\n\u001b[0;32m      1\u001b[0m formatted_boxes \u001b[38;5;241m=\u001b[39m []\n\u001b[0;32m      3\u001b[0m \u001b[38;5;28;01mfor\u001b[39;00m box \u001b[38;5;129;01min\u001b[39;00m bounding_boxes:\n\u001b[0;32m      4\u001b[0m     \u001b[38;5;66;03m# box should be a list or array of shape (4, 2)\u001b[39;00m\n\u001b[1;32m----> 5\u001b[0m     x_coords \u001b[38;5;241m=\u001b[39m [point[\u001b[38;5;241m0\u001b[39m] \u001b[38;5;28;01mfor\u001b[39;00m point \u001b[38;5;129;01min\u001b[39;00m box]  \u001b[38;5;66;03m# Extract x coordinates\u001b[39;00m\n\u001b[0;32m      6\u001b[0m     y_coords \u001b[38;5;241m=\u001b[39m [point[\u001b[38;5;241m1\u001b[39m] \u001b[38;5;28;01mfor\u001b[39;00m point \u001b[38;5;129;01min\u001b[39;00m box]  \u001b[38;5;66;03m# Extract y coordinates\u001b[39;00m\n\u001b[0;32m      8\u001b[0m     \u001b[38;5;66;03m# Calculate the bounding box coordinates\u001b[39;00m\n",
      "\u001b[1;31mTypeError\u001b[0m: 'int' object is not subscriptable"
     ]
    }
   ],
   "source": [
    "formatted_boxes = []\n",
    "\n",
    "for box in bounding_boxes:\n",
    "    # box should be a list or array of shape (4, 2)\n",
    "    x_coords = [point[0] for point in box]  # Extract x coordinates\n",
    "    y_coords = [point[1] for point in box]  # Extract y coordinates\n",
    "    \n",
    "    # Calculate the bounding box coordinates\n",
    "    x1 = int(min(x_coords))\n",
    "    y1 = int(min(y_coords))\n",
    "    x2 = int(max(x_coords))\n",
    "    y2 = int(max(y_coords))\n",
    "    \n",
    "    # Append to formatted_boxes\n",
    "    formatted_boxes.append((x1, y1, x2, y2))  # Append as a tuple"
   ]
  },
  {
   "cell_type": "code",
   "execution_count": 92,
   "id": "e1341386-8c3b-46e4-897b-fc32c4cc0922",
   "metadata": {},
   "outputs": [
    {
     "data": {
      "text/plain": [
       "[(234, 454, 373, 511),\n",
       " (0, 353, 455, 489),\n",
       " (52, 330, 235, 393),\n",
       " (4, 241, 307, 329)]"
      ]
     },
     "execution_count": 92,
     "metadata": {},
     "output_type": "execute_result"
    }
   ],
   "source": [
    "bounding_boxes"
   ]
  },
  {
   "cell_type": "code",
   "execution_count": null,
   "id": "f1613092-05a1-4d27-ad11-ee1cc6e53409",
   "metadata": {},
   "outputs": [],
   "source": []
  }
 ],
 "metadata": {
  "kernelspec": {
   "display_name": "Python 3 (ipykernel)",
   "language": "python",
   "name": "python3"
  },
  "language_info": {
   "codemirror_mode": {
    "name": "ipython",
    "version": 3
   },
   "file_extension": ".py",
   "mimetype": "text/x-python",
   "name": "python",
   "nbconvert_exporter": "python",
   "pygments_lexer": "ipython3",
   "version": "3.11.7"
  }
 },
 "nbformat": 4,
 "nbformat_minor": 5
}
